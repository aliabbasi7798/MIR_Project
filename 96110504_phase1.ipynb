{
  "nbformat": 4,
  "nbformat_minor": 0,
  "metadata": {
    "kernelspec": {
      "display_name": "Python 3",
      "language": "python",
      "name": "python3"
    },
    "language_info": {
      "codemirror_mode": {
        "name": "ipython",
        "version": 3
      },
      "file_extension": ".py",
      "mimetype": "text/x-python",
      "name": "python",
      "nbconvert_exporter": "python",
      "pygments_lexer": "ipython3",
      "version": "3.6.9"
    },
    "colab": {
      "name": "96110504_phase1.ipynb",
      "provenance": [],
      "collapsed_sections": []
    }
  },
  "cells": [
    {
      "cell_type": "markdown",
      "metadata": {
        "id": "-b2UsRU4P9JF"
      },
      "source": [
        "<div style=\"direction:rtl;line-height:300%;\">\n",
        "<font face=\"XB Zar\" size=5>\n",
        "<div align=center>\n",
        "<font face=\"B Titr\" size=5>\n",
        "<p></p><p></p>\n",
        "بسمه تعالی\n",
        "<p></p>\n",
        "</font>\n",
        "<p></p>\n",
        "<font>\n",
        "<br>\n",
        "درس بازیابی پیشرفته اطلاعات\n",
        "<br>\n",
        "مدرس: دکتر سلیمانی\n",
        "</font>\n",
        "<p></p>\n",
        "<br>\n",
        "<font>\n",
        "<b>فاز اول پروژه</b>\n",
        "</font>\n",
        "<br>\n",
        "<br>\n",
        "موعد تحویل: ۲۸ اسفند ۱۳۹۹\n",
        "<br>\n",
        "<br>\n",
        "<font size=4.8>\n",
        "دستیاران آموزشی: نیما جمالی، آرمین سعادت، ایمان غلامی\n",
        "</font>\n",
        "<br>\n",
        "<br>\n",
        "<br>\n",
        "<font>\n",
        "دانشگاه صنعتی شریف\n",
        "<br>\n",
        "دانشکده مهندسی کامپیوتر\n",
        "<br>\n",
        "<br>\n",
        "</font>\n",
        "</div>\n",
        "</font>\n",
        "</div>"
      ]
    },
    {
      "cell_type": "markdown",
      "metadata": {
        "id": "y3YoNVsQR3zO"
      },
      "source": [
        "<p></p>\n",
        "<div dir=\"rtl\">\n",
        "<font face=\"XB Zar\" size=4>\n",
        "    <h1>\n",
        "    <b>مقدمه</b>\n",
        "    </h1>\n",
        "    <p></p>\n",
        "    <p></p>\n",
        "    هدف از فاز اول پروژه، طراحی و پیاده‌سازی سیستم بازیابی اطلاعات برای مجموعه دادگان تعیین شده می‌باشد.<br>\n",
        "    اولین مرحله، پیش‌پردازش مجموعه دادگان است. پس از آن نمایه‌ها با ویژگی‌های خواسته شده پیاده‌سازی می‌شود. در گام بعدی به ذخیره و بازخوانی نمایه‌ها به همراه روش‌های فشرده‌سازی پرداخته می‌شود. پس از آن تکنیک‌های اصلاح پرسمان پیاده‌سازی شده و در نهایت جستجو روی دادگان صورت می‌گیرد. همچنین در بخش آخر با پیاده‌سازی برخی معیارهای ارزیابی، عملکرد سیستم مورد سنجش قرار می‌گیرد.<br><br>\n",
        "     توضیحات مربوط به هر بخش در ادامه آمده است که اهداف، محدودیت‌ها و خواسته‌های آن بخش را مشخص می‌کند.\n",
        "     در هر بخش توابعی مشخص شده است که محتوای آن با کد نوشته شده توسط شما باید پر شود. شما می‌توانید در همین فایل، سیستم بازیابی خود را پیاده‌سازی کنید یا فایل‌های خودتان را ایمپورت کرده و از آن‌ها استفاده کنید. در هر صورت تمامی کدهای لازم را به همراه این نوت‌بوک ارسال کنید. همچنین در نظر داشته باشید که ملاک اصلی نمره‌دهی شما اجرای صحیح توابع مشخص‌شده در این نوت‌بوک می‌باشد. بنابراین از صحت اجرای نوت‌بوک خود اطمینان پیدا کنید.<br><br>\n",
        "     تنها زبان قابل قبول برای پروژه پایتون است. محدودیت استفاده از کتاب‌خانه‌های آماده در هر بخش مشخص شده است. پروژه ۱۱۵ نمره دارد که ۱۵ نمره از آن امتیازی و مربوط به بخش اصلاح پرسمان می‌باشد.\n",
        "    \n",
        "    \n",
        "</font>\n",
        "</div>\n",
        "<p></p>"
      ]
    },
    {
      "cell_type": "markdown",
      "metadata": {
        "id": "jaR5CS_khMQB"
      },
      "source": [
        "<div dir=\"rtl\">\n",
        "<font face=\"XB Zar\" size=4>\n",
        "    <h1>\n",
        "    <b>مجموعه دادگان</b>\n",
        "    </h1>\n",
        "    مجموعه دادگان مورد بررسی در این پروژه از سایت kaggle فراهم شده است. این مجموعه شامل اطلاعات ۶۰۰۰ فیلم سینمایی از سال ۱۹۰۴ تا ۲۰۱۷ است. داده‌ها در قالب فایل csv   دارای ستون‌‌های plot، title، id می‌باشد. id یک شناسه یکتا برای هر فیلم است که برای ارزیابی بهتر عملکرد شما به داده‌ها اضافه شده است و در مجموعه دادگان اصلی وجود نداشته است. همانطور که می‌دانید برای پیاده‌سازی نمایه باید به هر داکیومنت یک شناسه اختصاص بدهید. <b>شناسه مربوط به هر داکیومنت باید id ذکر شده برای آن در مجموعه دادگان باشد.</b> هر فیلم از دو بخش title و plot  تشکیل شده است که از این دو بخش در ساخت نمایه و جستجو استفاده می‌شود. plot خلاصه‌ای از طرح داستان فیلم است.<br>\n",
        "    علاوه بر مجموعه دادگان اصلی، تعدای پرسمان در اختیار شما قرار گرفته است. همچنین جواب مطلوب هر یک از این پرسمان‌ها نیز فراهم شده که طبیعتا زیرمجموعه‌ای از مجموعه دادگان است. شما باید از این پرسمان‌ها و نتیجه مورد انتظار هر کدام برای ارزیابی سامانه خود استفاده کنید.\n",
        "    پرسمان‌ها و شناسه فیلم‌های بازیابی شده مورد انتظار از هر پرسمان در فایل validation.json آمده است. توضیحات بیشتر در رابطه با استفاده از این فایل در بخش ارزیابی آمده است.\n",
        "</font>\n",
        "</div>"
      ]
    },
    {
      "cell_type": "markdown",
      "metadata": {
        "id": "PxNntHofmHHH"
      },
      "source": [
        "<div dir=\"rtl\">\n",
        "<font face=\"XB Zar\" size=4>\n",
        "    <h1>\n",
        "    <b>پیش‌پردازش و آماده‌سازی داده‌ها (۱۵ نمره)</b>\n",
        "    </h1>\n",
        "    در این بخش ابتدا داده‌ها را از فایل بخوانید. برای آماده‌سازی متن می‌توانید از کتاب‌خانه‌های آماده استفاده کنید. یکی از کتاب‌خانه‌های معروف برای این کار <a href=\"https://www.nltk.org/\">NLTK</a> است اما در انتخاب روش پیاده‌سازی این بخش مختارید. برای این بخش باید تابع ()prepare_text را تکمیل کنید. این تابع یک متن انگلیسی ورودی گرفته و توکن‌‌های مربوط به آن‌را در قالب یک لیست خروجی می‌دهد. متن ورودی در عمل تایتل یا طرح داستان هر فیلم است. دقت کنید که لیست خروجی شامل تعدادی توکن است که عملیات case folding، stemming و lemmatization روی آن‌ها اجرا شده است. در ضمن علائم نگارشی نباید به عنوان توکن در نظر گرفته شود. در کد زیر یک نمونه ورودی و خروجی نمایش داده شده است. با توجه به نحوه پیاده‌سازی انواع بازگردانی به ریشه قابل قبول است.\n",
        "</font>\n",
        "</div>"
      ]
    },
    {
      "cell_type": "code",
      "metadata": {
        "id": "KQ8c9fUb6BOR"
      },
      "source": [
        "import nltk\n",
        "import pandas as pd\n",
        "import re\n"
      ],
      "execution_count": null,
      "outputs": []
    },
    {
      "cell_type": "code",
      "metadata": {
        "colab": {
          "base_uri": "https://localhost:8080/"
        },
        "id": "vBp_noLO7sjz",
        "outputId": "2a05f5ec-08bc-4df0-d6e9-1752e7fab189"
      },
      "source": [
        "from google.colab import drive\n",
        "drive.mount('/content/drive')"
      ],
      "execution_count": null,
      "outputs": [
        {
          "output_type": "stream",
          "text": [
            "Drive already mounted at /content/drive; to attempt to forcibly remount, call drive.mount(\"/content/drive\", force_remount=True).\n"
          ],
          "name": "stdout"
        }
      ]
    },
    {
      "cell_type": "code",
      "metadata": {
        "colab": {
          "base_uri": "https://localhost:8080/",
          "height": 419
        },
        "id": "XInLmWnO8KEN",
        "outputId": "a709fdd4-f08f-4aa5-ed34-595f27536bcb"
      },
      "source": [
        "dm = pd.read_csv('/content/drive/MyDrive/movies.csv')\n",
        "dm"
      ],
      "execution_count": null,
      "outputs": [
        {
          "output_type": "execute_result",
          "data": {
            "text/html": [
              "<div>\n",
              "<style scoped>\n",
              "    .dataframe tbody tr th:only-of-type {\n",
              "        vertical-align: middle;\n",
              "    }\n",
              "\n",
              "    .dataframe tbody tr th {\n",
              "        vertical-align: top;\n",
              "    }\n",
              "\n",
              "    .dataframe thead th {\n",
              "        text-align: right;\n",
              "    }\n",
              "</style>\n",
              "<table border=\"1\" class=\"dataframe\">\n",
              "  <thead>\n",
              "    <tr style=\"text-align: right;\">\n",
              "      <th></th>\n",
              "      <th>id</th>\n",
              "      <th>title</th>\n",
              "      <th>plot</th>\n",
              "    </tr>\n",
              "  </thead>\n",
              "  <tbody>\n",
              "    <tr>\n",
              "      <th>0</th>\n",
              "      <td>1</td>\n",
              "      <td>The Suburbanite</td>\n",
              "      <td>The film is about a family who move to the sub...</td>\n",
              "    </tr>\n",
              "    <tr>\n",
              "      <th>1</th>\n",
              "      <td>2</td>\n",
              "      <td>Laughing Gas</td>\n",
              "      <td>The plot is that of a black woman going to the...</td>\n",
              "    </tr>\n",
              "    <tr>\n",
              "      <th>2</th>\n",
              "      <td>3</td>\n",
              "      <td>A Calamitous Elopement</td>\n",
              "      <td>A young couple decides to elope after being ca...</td>\n",
              "    </tr>\n",
              "    <tr>\n",
              "      <th>3</th>\n",
              "      <td>4</td>\n",
              "      <td>The Call of the Wild</td>\n",
              "      <td>A white girl (Florence Lawrence) rejects a pro...</td>\n",
              "    </tr>\n",
              "    <tr>\n",
              "      <th>4</th>\n",
              "      <td>5</td>\n",
              "      <td>A Lad from Old Ireland</td>\n",
              "      <td>An Irish boy (Olcott) emigrates to America to ...</td>\n",
              "    </tr>\n",
              "    <tr>\n",
              "      <th>...</th>\n",
              "      <td>...</td>\n",
              "      <td>...</td>\n",
              "      <td>...</td>\n",
              "    </tr>\n",
              "    <tr>\n",
              "      <th>5995</th>\n",
              "      <td>5996</td>\n",
              "      <td>The Glass Castle</td>\n",
              "      <td>The unconventional, poverty-stricken upbringin...</td>\n",
              "    </tr>\n",
              "    <tr>\n",
              "      <th>5996</th>\n",
              "      <td>5997</td>\n",
              "      <td>The Good Catholic</td>\n",
              "      <td>Three Catholic priests live in a rectory toget...</td>\n",
              "    </tr>\n",
              "    <tr>\n",
              "      <th>5997</th>\n",
              "      <td>5998</td>\n",
              "      <td>The Outcasts</td>\n",
              "      <td>Best friends Mindy (Eden Sher) and Jodi (Victo...</td>\n",
              "    </tr>\n",
              "    <tr>\n",
              "      <th>5998</th>\n",
              "      <td>5999</td>\n",
              "      <td>The Shack</td>\n",
              "      <td>Mackenzie \"Mack\" Phillips suffered physical an...</td>\n",
              "    </tr>\n",
              "    <tr>\n",
              "      <th>5999</th>\n",
              "      <td>6000</td>\n",
              "      <td>Wonder</td>\n",
              "      <td>August \"Auggie\" Pullman is a young boy raised ...</td>\n",
              "    </tr>\n",
              "  </tbody>\n",
              "</table>\n",
              "<p>6000 rows × 3 columns</p>\n",
              "</div>"
            ],
            "text/plain": [
              "        id  ...                                               plot\n",
              "0        1  ...  The film is about a family who move to the sub...\n",
              "1        2  ...  The plot is that of a black woman going to the...\n",
              "2        3  ...  A young couple decides to elope after being ca...\n",
              "3        4  ...  A white girl (Florence Lawrence) rejects a pro...\n",
              "4        5  ...  An Irish boy (Olcott) emigrates to America to ...\n",
              "...    ...  ...                                                ...\n",
              "5995  5996  ...  The unconventional, poverty-stricken upbringin...\n",
              "5996  5997  ...  Three Catholic priests live in a rectory toget...\n",
              "5997  5998  ...  Best friends Mindy (Eden Sher) and Jodi (Victo...\n",
              "5998  5999  ...  Mackenzie \"Mack\" Phillips suffered physical an...\n",
              "5999  6000  ...  August \"Auggie\" Pullman is a young boy raised ...\n",
              "\n",
              "[6000 rows x 3 columns]"
            ]
          },
          "metadata": {
            "tags": []
          },
          "execution_count": 7
        }
      ]
    },
    {
      "cell_type": "code",
      "metadata": {
        "colab": {
          "base_uri": "https://localhost:8080/"
        },
        "id": "QamCWo24DsXa",
        "outputId": "6621def4-9065-4935-d752-6fad49c065b9"
      },
      "source": [
        "!pip install --user -U nltk\n",
        "nltk.download('wordnet')\n",
        "nltk.download('punkt')"
      ],
      "execution_count": null,
      "outputs": [
        {
          "output_type": "stream",
          "text": [
            "Requirement already up-to-date: nltk in /root/.local/lib/python3.7/site-packages (3.6.2)\n",
            "Requirement already satisfied, skipping upgrade: tqdm in /usr/local/lib/python3.7/dist-packages (from nltk) (4.41.1)\n",
            "Requirement already satisfied, skipping upgrade: click in /usr/local/lib/python3.7/dist-packages (from nltk) (7.1.2)\n",
            "Requirement already satisfied, skipping upgrade: regex in /usr/local/lib/python3.7/dist-packages (from nltk) (2019.12.20)\n",
            "Requirement already satisfied, skipping upgrade: joblib in /usr/local/lib/python3.7/dist-packages (from nltk) (1.0.1)\n",
            "[nltk_data] Downloading package wordnet to /root/nltk_data...\n",
            "[nltk_data]   Package wordnet is already up-to-date!\n",
            "[nltk_data] Downloading package punkt to /root/nltk_data...\n",
            "[nltk_data]   Package punkt is already up-to-date!\n"
          ],
          "name": "stdout"
        },
        {
          "output_type": "execute_result",
          "data": {
            "text/plain": [
              "True"
            ]
          },
          "metadata": {
            "tags": []
          },
          "execution_count": 8
        }
      ]
    },
    {
      "cell_type": "code",
      "metadata": {
        "id": "9aa16Puk-if0",
        "colab": {
          "base_uri": "https://localhost:8080/"
        },
        "outputId": "458112d9-af40-4d76-d68e-44fc5a7df82e"
      },
      "source": [
        "from nltk.tokenize import word_tokenize\n",
        "from nltk.stem.porter import PorterStemmer\n",
        "from nltk.stem import WordNetLemmatizer\n",
        "\n",
        "def prepare_text(raw_text):\n",
        "    raw_text = raw_text.lower()\n",
        "    raw_text = re.sub(r'[^\\w\\s]', '', raw_text)\n",
        "    raw_text = re.sub(r'[0-9]+', '', raw_text)\n",
        "\n",
        "\n",
        "    p_text= word_tokenize(raw_text)\n",
        "\n",
        "    porter_stemmer = PorterStemmer()\n",
        "    wordnet_lemmatizer = WordNetLemmatizer()\n",
        "    for i in range(len(p_text)):\n",
        "     # p_text[i] = wordnet_lemmatizer.lemmatize(p_text[i] , pos=\"v\")\n",
        "     p_text[i] = wordnet_lemmatizer.lemmatize(p_text[i] , 'v')\n",
        "    for i in range(len(p_text)):\n",
        "      p_text[i]= porter_stemmer.stem(p_text[i])  \n",
        "    # TODO: tokenize, case_folding, stem, lemmatize\n",
        "   # return [\"edvard\", \"am\", \"a\", \"run\", \"he\", \"am\", \"always\", \"run\"]\n",
        "    return p_text\n",
        "prepare_text(\"Edvard was a Runner. He was always running.\")"
      ],
      "execution_count": null,
      "outputs": [
        {
          "output_type": "execute_result",
          "data": {
            "text/plain": [
              "['edvard', 'be', 'a', 'runner', 'he', 'be', 'alway', 'run']"
            ]
          },
          "metadata": {
            "tags": []
          },
          "execution_count": 9
        }
      ]
    },
    {
      "cell_type": "markdown",
      "metadata": {
        "id": "WVhVEO6VARIa"
      },
      "source": [
        "<div dir=\"rtl\">\n",
        "<font face=\"XB Zar\" size=4>\n",
        "    <h1>\n",
        "    <b>شناسایی و حذف stop-words (۵ نمره)</b>\n",
        "    </h1>\n",
        "    این بخش باید توسط خودتان و بدون استفاده از کد آماده پیاده‌سازی شود. ترم‌های موجود در مجموعه دادگان را بر اساس تکرار آن‌ها مرتب کرده و پرتکرارترین آن‌ها را به عنوان stop-words در نظر بگیرید. اینکه چند ترم را به عنوان stop-words در نظر بگیرید به عهده خودتان است.<br>\n",
        "    با فراخوانی تابع ()get_stop_words لیست stop-words به همراه تعداد تکرار آن‌‌ها خروجی داده می‌شود.<br>\n",
        "    ترم‌های به دست آمده از این بخش نباید در نمایه حضور داشته باشند.\n",
        "</font>\n",
        "</div>"
      ]
    },
    {
      "cell_type": "code",
      "metadata": {
        "id": "B-0YxOUeBGDY",
        "colab": {
          "base_uri": "https://localhost:8080/"
        },
        "outputId": "64998d02-70ff-4467-88d4-6acc39066077"
      },
      "source": [
        "import heapq\n",
        "def get_stop_words():\n",
        "    terms={}\n",
        "    for x in dm.itertuples():\n",
        "      yt=prepare_text(x.title)\n",
        "      yp=prepare_text(x.plot)\n",
        "      for y in yt:\n",
        "        if y in terms.keys():\n",
        "          terms[y] += 1\n",
        "        else:\n",
        "          terms[y] = 1\n",
        "      \n",
        "      for y1 in yp:\n",
        "        if y1 in terms.keys():\n",
        "          terms[y1] += 1\n",
        "        else:\n",
        "          terms[y1] = 1\n",
        "    sorted_tuples = sorted(terms.items(), key=lambda item: item[1])\n",
        "    sorted_dict = {k: v for k, v in sorted_tuples}    \n",
        "    k = heapq.nlargest(10, sorted_dict , key = sorted_dict.get)\n",
        "    last={}\n",
        "    for x in k:\n",
        "      last[x] = sorted_dict.get(x)\n",
        "\n",
        "\n",
        "    return last\n",
        "\n",
        "print(get_stop_words())"
      ],
      "execution_count": null,
      "outputs": [
        {
          "output_type": "stream",
          "text": [
            "{'the': 147374, 'to': 91565, 'and': 83083, 'be': 69035, 'a': 67768, 'of': 42764, 'in': 38570, 'hi': 34739, 'he': 32194, 'her': 28004}\n"
          ],
          "name": "stdout"
        }
      ]
    },
    {
      "cell_type": "code",
      "metadata": {
        "colab": {
          "base_uri": "https://localhost:8080/",
          "height": 419
        },
        "id": "wDpdY6pqmskG",
        "outputId": "b785b916-ad2d-4831-9ec2-ec9bf02299e3"
      },
      "source": [
        "def delete_stopwords(text , stop_word):\n",
        "  k=0\n",
        "  nt=[]\n",
        "\n",
        "  for i in text:\n",
        "    k=0\n",
        "   # print(i)\n",
        "    for j in stop_word.keys():\n",
        "      if (i == j):\n",
        "        k=1\n",
        "\n",
        "    if(k==0):\n",
        "      nt.append(i) \n",
        "  return nt     \n",
        "stop_word = get_stop_words()\n",
        "#stop_word = {'the': 147374, 'to': 91565, 'and': 83083, 'be': 69035, 'a': 67768, 'of': 42764, 'in': 38570, 'hi': 34739, 'he': 32194, 'her': 28004}\n",
        "dm1 = pd.DataFrame(columns=['id', 'title', 'plot'])\n",
        "for i in range(6000):\n",
        " # print(prepare_text(dm['title'].loc[i]))\n",
        "  dm1.loc[len(dm1.index)] = [i+1, delete_stopwords(prepare_text(dm['title'].loc[i]) , stop_word), delete_stopwords(prepare_text(dm['plot'].loc[i]), stop_word)]\n",
        "dm1"
      ],
      "execution_count": null,
      "outputs": [
        {
          "output_type": "execute_result",
          "data": {
            "text/html": [
              "<div>\n",
              "<style scoped>\n",
              "    .dataframe tbody tr th:only-of-type {\n",
              "        vertical-align: middle;\n",
              "    }\n",
              "\n",
              "    .dataframe tbody tr th {\n",
              "        vertical-align: top;\n",
              "    }\n",
              "\n",
              "    .dataframe thead th {\n",
              "        text-align: right;\n",
              "    }\n",
              "</style>\n",
              "<table border=\"1\" class=\"dataframe\">\n",
              "  <thead>\n",
              "    <tr style=\"text-align: right;\">\n",
              "      <th></th>\n",
              "      <th>id</th>\n",
              "      <th>title</th>\n",
              "      <th>plot</th>\n",
              "    </tr>\n",
              "  </thead>\n",
              "  <tbody>\n",
              "    <tr>\n",
              "      <th>0</th>\n",
              "      <td>1</td>\n",
              "      <td>[suburbanit]</td>\n",
              "      <td>[film, about, famili, who, move, suburb, hop, ...</td>\n",
              "    </tr>\n",
              "    <tr>\n",
              "      <th>1</th>\n",
              "      <td>2</td>\n",
              "      <td>[laugh, ga]</td>\n",
              "      <td>[plot, that, black, woman, go, dentist, for, t...</td>\n",
              "    </tr>\n",
              "    <tr>\n",
              "      <th>2</th>\n",
              "      <td>3</td>\n",
              "      <td>[calamit, elop]</td>\n",
              "      <td>[young, coupl, decid, elop, after, catch, mids...</td>\n",
              "    </tr>\n",
              "    <tr>\n",
              "      <th>3</th>\n",
              "      <td>4</td>\n",
              "      <td>[call, wild]</td>\n",
              "      <td>[white, girl, florenc, lawrenc, reject, propos...</td>\n",
              "    </tr>\n",
              "    <tr>\n",
              "      <th>4</th>\n",
              "      <td>5</td>\n",
              "      <td>[lad, from, old, ireland]</td>\n",
              "      <td>[an, irish, boy, olcott, emigr, america, escap...</td>\n",
              "    </tr>\n",
              "    <tr>\n",
              "      <th>...</th>\n",
              "      <td>...</td>\n",
              "      <td>...</td>\n",
              "      <td>...</td>\n",
              "    </tr>\n",
              "    <tr>\n",
              "      <th>5995</th>\n",
              "      <td>5996</td>\n",
              "      <td>[glass, castl]</td>\n",
              "      <td>[unconvent, povertystricken, upbring, wall, si...</td>\n",
              "    </tr>\n",
              "    <tr>\n",
              "      <th>5996</th>\n",
              "      <td>5997</td>\n",
              "      <td>[good, cathol]</td>\n",
              "      <td>[three, cathol, priest, live, rectori, togeth,...</td>\n",
              "    </tr>\n",
              "    <tr>\n",
              "      <th>5997</th>\n",
              "      <td>5998</td>\n",
              "      <td>[outcast]</td>\n",
              "      <td>[best, friend, mindi, eden, sher, jodi, victor...</td>\n",
              "    </tr>\n",
              "    <tr>\n",
              "      <th>5998</th>\n",
              "      <td>5999</td>\n",
              "      <td>[shack]</td>\n",
              "      <td>[mackenzi, mack, phillip, suffer, physic, emot...</td>\n",
              "    </tr>\n",
              "    <tr>\n",
              "      <th>5999</th>\n",
              "      <td>6000</td>\n",
              "      <td>[wonder]</td>\n",
              "      <td>[august, auggi, pullman, young, boy, rais, nor...</td>\n",
              "    </tr>\n",
              "  </tbody>\n",
              "</table>\n",
              "<p>6000 rows × 3 columns</p>\n",
              "</div>"
            ],
            "text/plain": [
              "        id  ...                                               plot\n",
              "0        1  ...  [film, about, famili, who, move, suburb, hop, ...\n",
              "1        2  ...  [plot, that, black, woman, go, dentist, for, t...\n",
              "2        3  ...  [young, coupl, decid, elop, after, catch, mids...\n",
              "3        4  ...  [white, girl, florenc, lawrenc, reject, propos...\n",
              "4        5  ...  [an, irish, boy, olcott, emigr, america, escap...\n",
              "...    ...  ...                                                ...\n",
              "5995  5996  ...  [unconvent, povertystricken, upbring, wall, si...\n",
              "5996  5997  ...  [three, cathol, priest, live, rectori, togeth,...\n",
              "5997  5998  ...  [best, friend, mindi, eden, sher, jodi, victor...\n",
              "5998  5999  ...  [mackenzi, mack, phillip, suffer, physic, emot...\n",
              "5999  6000  ...  [august, auggi, pullman, young, boy, rais, nor...\n",
              "\n",
              "[6000 rows x 3 columns]"
            ]
          },
          "metadata": {
            "tags": []
          },
          "execution_count": 11
        }
      ]
    },
    {
      "cell_type": "markdown",
      "metadata": {
        "id": "A4Z02BzNHD1z"
      },
      "source": [
        "<div dir=\"rtl\">\n",
        "<font face=\"XB Zar\" size=4>\n",
        "    <h1>\n",
        "    <b>نمایه‌سازی (۱۵ نمره)</b>\n",
        "    </h1>\n",
        "    در این بخش باید برای سامانه positional index بسازید. برای هر ترم باید مشخص باشد که آن ترم در تایتل چه فیلم‌هایی و در چه جایگاهی از تایتل هر فیلم قرار گرفته است. همچنین برای هر ترم باید مشخص باشد که آن ترم در طرح داستان چه فیلم‌هایی و در چه جایگاهی از طرح داستان هر فیلم قرار گرفته است.<br>\n",
        "     برای ارزیابی بهتر و عادلانه‌تر به ویژه برای ارزیابی بخش فشرده‌سازی، از استاندارد بیان شده در قطعه کد زیر برای ذخیره posting list هر ترم در RAM استفاده کنید.\n",
        "</font>\n",
        "</div>"
      ]
    },
    {
      "cell_type": "code",
      "metadata": {
        "id": "zJy4LiraBm8E"
      },
      "source": [
        "\n",
        "positional_index={} \n",
        "#positional_index={}\n",
        "def create_positional_index():\n",
        "\n",
        "  posting={} \n",
        "  i=1 \n",
        "  for x in dm1.itertuples():\n",
        "      yt=x.title\n",
        "      yp=x.plot\n",
        "      yd=x.id\n",
        "      j=1\n",
        "      temp ={}\n",
        "      for y in yt:\n",
        "        if y in temp:\n",
        "          temp[y][1].append(j)\n",
        "        else:\n",
        "          temp[y]=[yd,[]]\n",
        "          temp[y][1].append(j)\n",
        "        j=j+1\n",
        "    #  print(temp)  \n",
        "      for y in temp.keys():\n",
        "        \n",
        "        title=temp.get(y)\n",
        "    #    print(title)\n",
        "        if y in posting:\n",
        "        \n",
        "          posting[y][0].append(title)\n",
        "        else:   \n",
        "          posting[y]=[[],[]]\n",
        "          posting[y][0].append(title)\n",
        "      j=1\n",
        "      temp ={}\n",
        "      for y in yp:\n",
        "         if y in temp:\n",
        "          temp[y][1].append(j)\n",
        "         else:\n",
        "          temp[y]=[yd,[]]\n",
        "          temp[y][1].append(j)\n",
        "         j=j+1\n",
        "      for y in temp.keys():\n",
        "      \n",
        "        plot=temp.get(y)\n",
        "        if y in posting:\n",
        "        \n",
        "          posting[y][1].append(plot)\n",
        "        else:   \n",
        "          posting[y]=[[],[]]\n",
        "          posting[y][1].append(plot)\n",
        "      i=i+1    \n",
        "\n",
        "    # TODO: create positional index for both title and plot\n",
        " \n",
        "  return posting\n",
        "\n",
        "\n",
        "positional_index=create_positional_index()\n",
        "#print(positional_index[\"sherlock\"])"
      ],
      "execution_count": null,
      "outputs": []
    },
    {
      "cell_type": "markdown",
      "metadata": {
        "id": "voqMrk4rg1qk"
      },
      "source": [
        "<div dir=\"rtl\">\n",
        "<font face=\"XB Zar\" size=4>\n",
        "    <h1>\n",
        "    <b>پویا‌سازی نمایه (۱۰ نمره)</b>\n",
        "    </h1>\n",
        "    نمایه ایجاد شده باید قابلیت حذف و اضافه تک داکیومنت را داشته باشد.\n",
        "    برای اضافه شدن داکیومنت، به تابع ()add_single_document یک رشته داده می‌شود که اطلاعات مربوط به داکیومنت شامل id و plot و title در آن با کاما جدا شده است. برای حذف داکیومنت نیز id آن به تابع ()remove_single_document داده می‌شود.<br>\n",
        "    تضمین می‌شود که شرط یکتا بودن id داکیومنت‌ها نقض نشود. برای مثال دو داکیومنت با شناسه یکسان به مجموعه اضافه نخواهد شد. البته ممکن است حذف شده و دوباره اضافه شود.\n",
        "</font>\n",
        "</div>"
      ]
    },
    {
      "cell_type": "code",
      "metadata": {
        "id": "e1Ej2n3MB6ef",
        "colab": {
          "base_uri": "https://localhost:8080/",
          "height": 457
        },
        "outputId": "6e708f9a-7c39-4f05-df5a-71e3770d6334"
      },
      "source": [
        "posting = positional_index\n",
        "def add_single_documnet(document):\n",
        "    x = document.split(',')\n",
        "    x[0]=int(x[0])\n",
        "    flag=0\n",
        "    \n",
        "    for a in dm1.itertuples():\n",
        "      yii = a.id\n",
        "      if( yii == x[0]):\n",
        "        flag=1\n",
        "    if(flag  == 0):  \n",
        "      a_title = delete_stopwords(prepare_text(x[1]), stop_word)\n",
        "      a_plot =  delete_stopwords(prepare_text(x[2]) , stop_word)\n",
        "      dm1.loc[len(dm1.index)] = [x[0] , a_title , a_plot ]\n",
        "      #print(posting[\"sherlock\"])\n",
        "      yt=a_title\n",
        "      yp=a_plot\n",
        "      yd=x[0]\n",
        "      j=1\n",
        "      temp ={}\n",
        "      for y in yt:\n",
        "        if y in temp:\n",
        "          temp[y][1].append(j)\n",
        "        else:\n",
        "          temp[y]=[yd,[]]\n",
        "          temp[y][1].append(j)\n",
        "        j=j+1\n",
        "    #  print(temp)  \n",
        "      for y in temp.keys():\n",
        "        \n",
        "        title=temp.get(y)\n",
        "    #    print(title)\n",
        "        if y in posting:\n",
        "        \n",
        "          posting[y][0].append(title)\n",
        "        else:   \n",
        "          posting[y]=[[],[]]\n",
        "          posting[y][0].append(title)\n",
        "      j=1\n",
        "      temp ={}\n",
        "      for y in yp:\n",
        "         if y in temp:\n",
        "          temp[y][1].append(j)\n",
        "         else:\n",
        "          temp[y]=[yd,[]]\n",
        "          temp[y][1].append(j)\n",
        "         j=j+1\n",
        "      for y in temp.keys():\n",
        "      \n",
        "        plot=temp.get(y)\n",
        "        if y in posting:\n",
        "        \n",
        "          posting[y][1].append(plot)\n",
        "        else:   \n",
        "          posting[y]=[[],[]]\n",
        "          posting[y][1].append(plot)\n",
        "      \n",
        "      \n",
        "      \n",
        "    else:\n",
        "      print(\"this document is existed\")\n",
        "    return  \n",
        "\n",
        "new_document = \"12345,The Adventures of Sherlock Holmes,The picture begins with Moriarty and Holmes verbally sparring on the steps\"\n",
        "add_single_documnet(new_document)\n",
        "positional_index=posting\n",
        "print(positional_index[\"sherlock\"])\n",
        "dm1"
      ],
      "execution_count": null,
      "outputs": [
        {
          "output_type": "stream",
          "text": [
            "[[[39, [1]], [854, [2]], [1138, [1]], [1224, [1]], [1225, [1]], [1226, [1]], [1392, [1]], [5597, [1]], [12345, [2]]], [[762, [159]], [858, [1]], [1138, [185]], [1224, [1]], [1225, [80, 90]], [1335, [3]], [3235, [14]], [3417, [11, 39]], [5597, [3]]]]\n"
          ],
          "name": "stdout"
        },
        {
          "output_type": "execute_result",
          "data": {
            "text/html": [
              "<div>\n",
              "<style scoped>\n",
              "    .dataframe tbody tr th:only-of-type {\n",
              "        vertical-align: middle;\n",
              "    }\n",
              "\n",
              "    .dataframe tbody tr th {\n",
              "        vertical-align: top;\n",
              "    }\n",
              "\n",
              "    .dataframe thead th {\n",
              "        text-align: right;\n",
              "    }\n",
              "</style>\n",
              "<table border=\"1\" class=\"dataframe\">\n",
              "  <thead>\n",
              "    <tr style=\"text-align: right;\">\n",
              "      <th></th>\n",
              "      <th>id</th>\n",
              "      <th>title</th>\n",
              "      <th>plot</th>\n",
              "    </tr>\n",
              "  </thead>\n",
              "  <tbody>\n",
              "    <tr>\n",
              "      <th>0</th>\n",
              "      <td>1</td>\n",
              "      <td>[suburbanit]</td>\n",
              "      <td>[film, about, famili, who, move, suburb, hop, ...</td>\n",
              "    </tr>\n",
              "    <tr>\n",
              "      <th>1</th>\n",
              "      <td>2</td>\n",
              "      <td>[laugh, ga]</td>\n",
              "      <td>[plot, that, black, woman, go, dentist, for, t...</td>\n",
              "    </tr>\n",
              "    <tr>\n",
              "      <th>2</th>\n",
              "      <td>3</td>\n",
              "      <td>[calamit, elop]</td>\n",
              "      <td>[young, coupl, decid, elop, after, catch, mids...</td>\n",
              "    </tr>\n",
              "    <tr>\n",
              "      <th>3</th>\n",
              "      <td>4</td>\n",
              "      <td>[call, wild]</td>\n",
              "      <td>[white, girl, florenc, lawrenc, reject, propos...</td>\n",
              "    </tr>\n",
              "    <tr>\n",
              "      <th>4</th>\n",
              "      <td>5</td>\n",
              "      <td>[lad, from, old, ireland]</td>\n",
              "      <td>[an, irish, boy, olcott, emigr, america, escap...</td>\n",
              "    </tr>\n",
              "    <tr>\n",
              "      <th>...</th>\n",
              "      <td>...</td>\n",
              "      <td>...</td>\n",
              "      <td>...</td>\n",
              "    </tr>\n",
              "    <tr>\n",
              "      <th>5996</th>\n",
              "      <td>5997</td>\n",
              "      <td>[good, cathol]</td>\n",
              "      <td>[three, cathol, priest, live, rectori, togeth,...</td>\n",
              "    </tr>\n",
              "    <tr>\n",
              "      <th>5997</th>\n",
              "      <td>5998</td>\n",
              "      <td>[outcast]</td>\n",
              "      <td>[best, friend, mindi, eden, sher, jodi, victor...</td>\n",
              "    </tr>\n",
              "    <tr>\n",
              "      <th>5998</th>\n",
              "      <td>5999</td>\n",
              "      <td>[shack]</td>\n",
              "      <td>[mackenzi, mack, phillip, suffer, physic, emot...</td>\n",
              "    </tr>\n",
              "    <tr>\n",
              "      <th>5999</th>\n",
              "      <td>6000</td>\n",
              "      <td>[wonder]</td>\n",
              "      <td>[august, auggi, pullman, young, boy, rais, nor...</td>\n",
              "    </tr>\n",
              "    <tr>\n",
              "      <th>6000</th>\n",
              "      <td>12345</td>\n",
              "      <td>[adventur, sherlock, holm]</td>\n",
              "      <td>[pictur, begin, with, moriarti, holm, verbal, ...</td>\n",
              "    </tr>\n",
              "  </tbody>\n",
              "</table>\n",
              "<p>6001 rows × 3 columns</p>\n",
              "</div>"
            ],
            "text/plain": [
              "         id  ...                                               plot\n",
              "0         1  ...  [film, about, famili, who, move, suburb, hop, ...\n",
              "1         2  ...  [plot, that, black, woman, go, dentist, for, t...\n",
              "2         3  ...  [young, coupl, decid, elop, after, catch, mids...\n",
              "3         4  ...  [white, girl, florenc, lawrenc, reject, propos...\n",
              "4         5  ...  [an, irish, boy, olcott, emigr, america, escap...\n",
              "...     ...  ...                                                ...\n",
              "5996   5997  ...  [three, cathol, priest, live, rectori, togeth,...\n",
              "5997   5998  ...  [best, friend, mindi, eden, sher, jodi, victor...\n",
              "5998   5999  ...  [mackenzi, mack, phillip, suffer, physic, emot...\n",
              "5999   6000  ...  [august, auggi, pullman, young, boy, rais, nor...\n",
              "6000  12345  ...  [pictur, begin, with, moriarti, holm, verbal, ...\n",
              "\n",
              "[6001 rows x 3 columns]"
            ]
          },
          "metadata": {
            "tags": []
          },
          "execution_count": 13
        }
      ]
    },
    {
      "cell_type": "code",
      "metadata": {
        "id": "DsarzVzhDoMi",
        "colab": {
          "base_uri": "https://localhost:8080/",
          "height": 457
        },
        "outputId": "e54085cd-e167-42f6-959e-2074321697f5"
      },
      "source": [
        "positional=positional_index\n",
        "\n",
        "#print(dm3)\n",
        "def remove_signle_document(document_id):\n",
        "  i=0\n",
        "  \n",
        "  x= document_id \n",
        "  dm3=dm1\n",
        "  dm3 = dm3[dm3.id != x]\n",
        "   \n",
        "  for y in positional.keys():\n",
        "    for j in range(len(positional[y][0])):\n",
        "     if(positional[y][0][j][0] == document_id and len(positional[y][0][j])!=0):\n",
        "       positional[y][0].pop(j)\n",
        "    for j in range(len(positional[y][1])):\n",
        "     if(len(positional[y][1][j])!=0):\n",
        "       if(positional[y][1][j][0] == document_id  ):\n",
        "         positional[y][1].pop(j)\n",
        "      \n",
        "  return dm3\n",
        "positional_index=positional\n",
        "\n",
        "dm1 = remove_signle_document(12345)\n",
        "\n",
        "\n",
        "print(positional_index[\"sherlock\"]) \n",
        "dm1\n"
      ],
      "execution_count": null,
      "outputs": [
        {
          "output_type": "stream",
          "text": [
            "[[[39, [1]], [854, [2]], [1138, [1]], [1224, [1]], [1225, [1]], [1226, [1]], [1392, [1]], [5597, [1]]], [[762, [159]], [858, [1]], [1138, [185]], [1224, [1]], [1225, [80, 90]], [1335, [3]], [3235, [14]], [3417, [11, 39]], [5597, [3]]]]\n"
          ],
          "name": "stdout"
        },
        {
          "output_type": "execute_result",
          "data": {
            "text/html": [
              "<div>\n",
              "<style scoped>\n",
              "    .dataframe tbody tr th:only-of-type {\n",
              "        vertical-align: middle;\n",
              "    }\n",
              "\n",
              "    .dataframe tbody tr th {\n",
              "        vertical-align: top;\n",
              "    }\n",
              "\n",
              "    .dataframe thead th {\n",
              "        text-align: right;\n",
              "    }\n",
              "</style>\n",
              "<table border=\"1\" class=\"dataframe\">\n",
              "  <thead>\n",
              "    <tr style=\"text-align: right;\">\n",
              "      <th></th>\n",
              "      <th>id</th>\n",
              "      <th>title</th>\n",
              "      <th>plot</th>\n",
              "    </tr>\n",
              "  </thead>\n",
              "  <tbody>\n",
              "    <tr>\n",
              "      <th>0</th>\n",
              "      <td>1</td>\n",
              "      <td>[suburbanit]</td>\n",
              "      <td>[film, about, famili, who, move, suburb, hop, ...</td>\n",
              "    </tr>\n",
              "    <tr>\n",
              "      <th>1</th>\n",
              "      <td>2</td>\n",
              "      <td>[laugh, ga]</td>\n",
              "      <td>[plot, that, black, woman, go, dentist, for, t...</td>\n",
              "    </tr>\n",
              "    <tr>\n",
              "      <th>2</th>\n",
              "      <td>3</td>\n",
              "      <td>[calamit, elop]</td>\n",
              "      <td>[young, coupl, decid, elop, after, catch, mids...</td>\n",
              "    </tr>\n",
              "    <tr>\n",
              "      <th>3</th>\n",
              "      <td>4</td>\n",
              "      <td>[call, wild]</td>\n",
              "      <td>[white, girl, florenc, lawrenc, reject, propos...</td>\n",
              "    </tr>\n",
              "    <tr>\n",
              "      <th>4</th>\n",
              "      <td>5</td>\n",
              "      <td>[lad, from, old, ireland]</td>\n",
              "      <td>[an, irish, boy, olcott, emigr, america, escap...</td>\n",
              "    </tr>\n",
              "    <tr>\n",
              "      <th>...</th>\n",
              "      <td>...</td>\n",
              "      <td>...</td>\n",
              "      <td>...</td>\n",
              "    </tr>\n",
              "    <tr>\n",
              "      <th>5995</th>\n",
              "      <td>5996</td>\n",
              "      <td>[glass, castl]</td>\n",
              "      <td>[unconvent, povertystricken, upbring, wall, si...</td>\n",
              "    </tr>\n",
              "    <tr>\n",
              "      <th>5996</th>\n",
              "      <td>5997</td>\n",
              "      <td>[good, cathol]</td>\n",
              "      <td>[three, cathol, priest, live, rectori, togeth,...</td>\n",
              "    </tr>\n",
              "    <tr>\n",
              "      <th>5997</th>\n",
              "      <td>5998</td>\n",
              "      <td>[outcast]</td>\n",
              "      <td>[best, friend, mindi, eden, sher, jodi, victor...</td>\n",
              "    </tr>\n",
              "    <tr>\n",
              "      <th>5998</th>\n",
              "      <td>5999</td>\n",
              "      <td>[shack]</td>\n",
              "      <td>[mackenzi, mack, phillip, suffer, physic, emot...</td>\n",
              "    </tr>\n",
              "    <tr>\n",
              "      <th>5999</th>\n",
              "      <td>6000</td>\n",
              "      <td>[wonder]</td>\n",
              "      <td>[august, auggi, pullman, young, boy, rais, nor...</td>\n",
              "    </tr>\n",
              "  </tbody>\n",
              "</table>\n",
              "<p>6000 rows × 3 columns</p>\n",
              "</div>"
            ],
            "text/plain": [
              "        id  ...                                               plot\n",
              "0        1  ...  [film, about, famili, who, move, suburb, hop, ...\n",
              "1        2  ...  [plot, that, black, woman, go, dentist, for, t...\n",
              "2        3  ...  [young, coupl, decid, elop, after, catch, mids...\n",
              "3        4  ...  [white, girl, florenc, lawrenc, reject, propos...\n",
              "4        5  ...  [an, irish, boy, olcott, emigr, america, escap...\n",
              "...    ...  ...                                                ...\n",
              "5995  5996  ...  [unconvent, povertystricken, upbring, wall, si...\n",
              "5996  5997  ...  [three, cathol, priest, live, rectori, togeth,...\n",
              "5997  5998  ...  [best, friend, mindi, eden, sher, jodi, victor...\n",
              "5998  5999  ...  [mackenzi, mack, phillip, suffer, physic, emot...\n",
              "5999  6000  ...  [august, auggi, pullman, young, boy, rais, nor...\n",
              "\n",
              "[6000 rows x 3 columns]"
            ]
          },
          "metadata": {
            "tags": []
          },
          "execution_count": 14
        }
      ]
    },
    {
      "cell_type": "markdown",
      "metadata": {
        "id": "4PBbFcmpXFKD"
      },
      "source": [
        "<div dir=\"rtl\">\n",
        "<font face=\"XB Zar\" size=4>\n",
        "    <h1>\n",
        "    <b>ذخیره و فشرده‌سازی نمایه (۲۰ نمره)</b>\n",
        "    </h1>\n",
        "    در این بخش باید توانایی ذخیره کردن نمایه و بارگذاری مجدد آن را به سامانه اضافه کنید. ذخیره‌سازی به ۳ روش صورت می‌گیرد. بدون فشرده‌سازی، فشرده‌سازی از روش gamma-code و فشرده‌سازی از روش variable-byte. روش‌های فشرده‌سازی باید توسط خودتان پیاده‌سازی شود.\n",
        "    برای ذخیره نمایه در فایل نیز از JSON  استفاده کنید.<br>\n",
        "     بخشی از نمره شما در این قسمت به میزان فشرده‌سازی نمایه اختصاص داده شده است. بنابراین پیاده‌سازی بهینه روش‌های فشرده‌سازی مهم است.\n",
        "</font>\n",
        "</div>"
      ]
    },
    {
      "cell_type": "code",
      "metadata": {
        "id": "zYN9I4_BD178",
        "colab": {
          "base_uri": "https://localhost:8080/"
        },
        "outputId": "4a11351f-d214-495e-eb3f-7dc56863cd58"
      },
      "source": [
        "def store_index(path, compression_type):\n",
        "    \"\"\"Stores the index in a file\n",
        "\n",
        "    Parameters\n",
        "    ----------\n",
        "    path : str\n",
        "        Path to store the file\n",
        "\n",
        "    compression_type : str\n",
        "        Could be one of the followings:\n",
        "        - no-compression\n",
        "        - gamma-code\n",
        "        - variable-byte\n",
        "\n",
        "    Returns\n",
        "    -------\n",
        "    int\n",
        "        The size of the stored file\n",
        "    \"\"\"\n",
        "\n",
        "    # TODO: compress and store positional_index\n",
        "    size_of_file = 1024\n",
        "    return size_of_file\n",
        "\n",
        "store_index(\"path/to/file.json\", \"no-compression\")"
      ],
      "execution_count": null,
      "outputs": [
        {
          "output_type": "execute_result",
          "data": {
            "text/plain": [
              "1024"
            ]
          },
          "metadata": {
            "tags": []
          },
          "execution_count": 55
        }
      ]
    },
    {
      "cell_type": "code",
      "metadata": {
        "id": "3Dm38ZXHFQVH"
      },
      "source": [
        "def load_index(path, compression_type):\n",
        "    \"\"\"Loads the index from a file\n",
        "\n",
        "    Parameters\n",
        "    ----------\n",
        "    path : str\n",
        "        Path of the file to load from\n",
        "\n",
        "    compression_type : str\n",
        "        Could be one of the followings:\n",
        "        - no-compression\n",
        "        - gamma-code\n",
        "        - variable-byte\n",
        "    \"\"\"\n",
        "\n",
        "    # TODO: load and decompress positional_index\n",
        "    return\n",
        "\n",
        "load_index(\"path/to/file.json\", \"no-compression\")"
      ],
      "execution_count": null,
      "outputs": []
    },
    {
      "cell_type": "markdown",
      "metadata": {
        "id": "4i-iLvu2nh2k"
      },
      "source": [
        "<div dir=\"rtl\">\n",
        "<font face=\"XB Zar\" size=4>\n",
        "    <h1>\n",
        "    <b>اصلاح پرسمان (۱۵ نمره امتیازی)</b>\n",
        "    </h1>\n",
        "    در صورتی که پرسمان ورودی دارای غلط املایی باشد یا به عبارتی لغاتی از آن در لغت‌نامه موجود نباشد، لازم است که با جستجوی لغت‌های احتمالی و انتخاب بهترین لغت به ادامه‌ی جستجو با پرسمان اصلاح شده پرداخته شود. برای اینکار ابتدا باید با روش bigram و معیار jaccard نزدیک‌ترین لغات به لغت با غلط املایی را پیدا کنید. سپس با استفاده از معیار edit distance بهترین لغت را از میان آن‌ها بیابید.<br>\n",
        "    نیازی به ذخیره‌سازی و فشرده‌سازی نمایه بایگرم نیست. همچنین می‌توانید از کد آماده برای محاسبه edit distance استفاده کنید.\n",
        "</font>\n",
        "</div>"
      ]
    },
    {
      "cell_type": "code",
      "metadata": {
        "id": "qMZTstsbL1G3",
        "colab": {
          "base_uri": "https://localhost:8080/",
          "height": 419
        },
        "outputId": "3df9fda1-cbcc-4a9d-b0c3-9d631f7ddc64"
      },
      "source": [
        "dm2 = pd.DataFrame(columns=['id', 'title', 'plot'])\n",
        "for i in range(6000):\n",
        " # print(prepare_text(dm['title'].loc[i]))\n",
        "  dm2.loc[len(dm2.index)] = [i+1, prepare_text(dm['title'].loc[i]), prepare_text(dm['plot'].loc[i])]\n",
        "\n",
        "bigrams={}\n",
        "def create_bilist(txt):\n",
        "  txt = \"$\" + txt \n",
        "  txt = txt + \"$\"\n",
        "  list=[]\n",
        "  for i in range(len(txt)-1):\n",
        "    list.append(txt[i:i+2])\n",
        "  return list\n",
        "def create_bigram_index():\n",
        "    \n",
        "    bigram = {}\n",
        "    for x in dm2.itertuples():\n",
        "      yt=x.title\n",
        "      yp=x.plot\n",
        "      for y in yt:\n",
        "        list = create_bilist(y)\n",
        "        for l in list:\n",
        "          if l in bigram.keys():\n",
        "            if y not in bigram[l]:\n",
        "              bigram[l].append(y)\n",
        "          else:\n",
        "            bigram[l]=[]\n",
        "            bigram[l].append(y)\n",
        "      for y in yp:\n",
        "        list = create_bilist(y)\n",
        "        for l in list:\n",
        "          if l in bigram.keys():\n",
        "            if y not in bigram[l]:\n",
        "              bigram[l].append(y)\n",
        "          else:\n",
        "            bigram[l]=[]\n",
        "            bigram[l].append(y)        \n",
        "    return bigram\n",
        "\n",
        "bigrams=create_bigram_index()\n",
        "dm2"
      ],
      "execution_count": null,
      "outputs": [
        {
          "output_type": "execute_result",
          "data": {
            "text/html": [
              "<div>\n",
              "<style scoped>\n",
              "    .dataframe tbody tr th:only-of-type {\n",
              "        vertical-align: middle;\n",
              "    }\n",
              "\n",
              "    .dataframe tbody tr th {\n",
              "        vertical-align: top;\n",
              "    }\n",
              "\n",
              "    .dataframe thead th {\n",
              "        text-align: right;\n",
              "    }\n",
              "</style>\n",
              "<table border=\"1\" class=\"dataframe\">\n",
              "  <thead>\n",
              "    <tr style=\"text-align: right;\">\n",
              "      <th></th>\n",
              "      <th>id</th>\n",
              "      <th>title</th>\n",
              "      <th>plot</th>\n",
              "    </tr>\n",
              "  </thead>\n",
              "  <tbody>\n",
              "    <tr>\n",
              "      <th>0</th>\n",
              "      <td>1</td>\n",
              "      <td>[the, suburbanit]</td>\n",
              "      <td>[the, film, be, about, a, famili, who, move, t...</td>\n",
              "    </tr>\n",
              "    <tr>\n",
              "      <th>1</th>\n",
              "      <td>2</td>\n",
              "      <td>[laugh, ga]</td>\n",
              "      <td>[the, plot, be, that, of, a, black, woman, go,...</td>\n",
              "    </tr>\n",
              "    <tr>\n",
              "      <th>2</th>\n",
              "      <td>3</td>\n",
              "      <td>[a, calamit, elop]</td>\n",
              "      <td>[a, young, coupl, decid, to, elop, after, be, ...</td>\n",
              "    </tr>\n",
              "    <tr>\n",
              "      <th>3</th>\n",
              "      <td>4</td>\n",
              "      <td>[the, call, of, the, wild]</td>\n",
              "      <td>[a, white, girl, florenc, lawrenc, reject, a, ...</td>\n",
              "    </tr>\n",
              "    <tr>\n",
              "      <th>4</th>\n",
              "      <td>5</td>\n",
              "      <td>[a, lad, from, old, ireland]</td>\n",
              "      <td>[an, irish, boy, olcott, emigr, to, america, t...</td>\n",
              "    </tr>\n",
              "    <tr>\n",
              "      <th>...</th>\n",
              "      <td>...</td>\n",
              "      <td>...</td>\n",
              "      <td>...</td>\n",
              "    </tr>\n",
              "    <tr>\n",
              "      <th>5995</th>\n",
              "      <td>5996</td>\n",
              "      <td>[the, glass, castl]</td>\n",
              "      <td>[the, unconvent, povertystricken, upbring, wal...</td>\n",
              "    </tr>\n",
              "    <tr>\n",
              "      <th>5996</th>\n",
              "      <td>5997</td>\n",
              "      <td>[the, good, cathol]</td>\n",
              "      <td>[three, cathol, priest, live, in, a, rectori, ...</td>\n",
              "    </tr>\n",
              "    <tr>\n",
              "      <th>5997</th>\n",
              "      <td>5998</td>\n",
              "      <td>[the, outcast]</td>\n",
              "      <td>[best, friend, mindi, eden, sher, and, jodi, v...</td>\n",
              "    </tr>\n",
              "    <tr>\n",
              "      <th>5998</th>\n",
              "      <td>5999</td>\n",
              "      <td>[the, shack]</td>\n",
              "      <td>[mackenzi, mack, phillip, suffer, physic, and,...</td>\n",
              "    </tr>\n",
              "    <tr>\n",
              "      <th>5999</th>\n",
              "      <td>6000</td>\n",
              "      <td>[wonder]</td>\n",
              "      <td>[august, auggi, pullman, be, a, young, boy, ra...</td>\n",
              "    </tr>\n",
              "  </tbody>\n",
              "</table>\n",
              "<p>6000 rows × 3 columns</p>\n",
              "</div>"
            ],
            "text/plain": [
              "        id  ...                                               plot\n",
              "0        1  ...  [the, film, be, about, a, famili, who, move, t...\n",
              "1        2  ...  [the, plot, be, that, of, a, black, woman, go,...\n",
              "2        3  ...  [a, young, coupl, decid, to, elop, after, be, ...\n",
              "3        4  ...  [a, white, girl, florenc, lawrenc, reject, a, ...\n",
              "4        5  ...  [an, irish, boy, olcott, emigr, to, america, t...\n",
              "...    ...  ...                                                ...\n",
              "5995  5996  ...  [the, unconvent, povertystricken, upbring, wal...\n",
              "5996  5997  ...  [three, cathol, priest, live, in, a, rectori, ...\n",
              "5997  5998  ...  [best, friend, mindi, eden, sher, and, jodi, v...\n",
              "5998  5999  ...  [mackenzi, mack, phillip, suffer, physic, and,...\n",
              "5999  6000  ...  [august, auggi, pullman, be, a, young, boy, ra...\n",
              "\n",
              "[6000 rows x 3 columns]"
            ]
          },
          "metadata": {
            "tags": []
          },
          "execution_count": 15
        }
      ]
    },
    {
      "cell_type": "code",
      "metadata": {
        "id": "kfG5otR2wcuK"
      },
      "source": [
        "#bigram=bigrams\n",
        "#print(bigram[\"gi\"])\n",
        "def find_key(txt , bigram):\n",
        "  list = create_bilist(txt)\n",
        "  list1=[]\n",
        "  for y in list:\n",
        "    if y in bigram.keys():\n",
        "      list1.append(y)\n",
        "  return list1\n",
        "\n",
        "def jaccard_similarity(list1, list2):\n",
        "  intersection = len(list(set(list1).intersection(list2)))\n",
        "  union = (len(list1) + len(list2)) - intersection\n",
        "  return float(intersection) / union      \n",
        "def jaccard(txt , bigram , a):\n",
        "  res=[]\n",
        "  list = find_key(txt , bigram)\n",
        " # print(list)\n",
        "  for y in list:\n",
        "    for x in bigram[y]:\n",
        "      if x not in res:\n",
        "      # print(\"hi\")\n",
        "      # print(jaccard_similarity(list, find_key(x , bigram)) + a)\n",
        "       if (jaccard_similarity(list, find_key(x , bigram)) > a):\n",
        "          res.append(x)\n",
        "  return res        \n",
        "#print(jaccard(\"gir\" , bigram ,0.3 ))   \n",
        "#print(jaccard_similarity(find_key(\"girl\" , bigram),find_key(\"gir\" , bigram) ) )    "
      ],
      "execution_count": null,
      "outputs": []
    },
    {
      "cell_type": "code",
      "metadata": {
        "id": "sL3E8C-nL1yG",
        "colab": {
          "base_uri": "https://localhost:8080/"
        },
        "outputId": "6c8a4714-e1fb-464b-8a24-11e4dbd689fa"
      },
      "source": [
        "bigram = bigrams\n",
        "def get_corrected_text(raw_text):\n",
        "    x = raw_text.split(' ')\n",
        "    fres=[]\n",
        "    for y in x:\n",
        "     list=jaccard(y , bigram ,0.3 )\n",
        "     #print(list)\n",
        "     if (len(list) == 0):\n",
        "       fres.append(y)\n",
        "     else:\n",
        "      m=1000\n",
        "      k=0\n",
        "      for i in range(len(list)):\n",
        "        if(nltk.edit_distance(y , list[i]) < m):\n",
        "          m= nltk.edit_distance(y , list[i])\n",
        "          k=i\n",
        "      fres.append(list[k])\n",
        "      #print(list[k])\n",
        "\n",
        "    return fres\n",
        "   \n",
        "\n",
        "get_corrected_text(\"theiii cal of uncnven girrd\")"
      ],
      "execution_count": null,
      "outputs": [
        {
          "output_type": "execute_result",
          "data": {
            "text/plain": [
              "['their', 'cal', 'of', 'unconvent', 'girard']"
            ]
          },
          "metadata": {
            "tags": []
          },
          "execution_count": 17
        }
      ]
    },
    {
      "cell_type": "markdown",
      "metadata": {
        "id": "-BWhdHJbs1zy"
      },
      "source": [
        "<div dir=\"rtl\">\n",
        "<font face=\"XB Zar\" size=4>\n",
        "    <h1>\n",
        "    <b>جستجو و بازیابی اسناد (۲۵ نمره)</b>\n",
        "    </h1>\n",
        "    در این بخش جستجو ترتیب‌دار در فضای برداری tf-idf به روش <b>lnn-ltn</b> انجام می‌شود. یک پرسمان title و یک پرسمان plot ورودی گرفته شده و هر کدام در بخش مربوطه از اسناد جستجو می‌شوند. امتیاز نهایی هر سند برابر با جمع وزن‌دار امتیاز به دست آمده از جستجو در بخش title و plot است. به این صورت که وزن plot واحد در نظر گرفته شده و وزن تایتل به عنوان ورودی داده می‌شود.<br>\n",
        "    در نهایت اسناد برتر را نمایش دهید. تعداد حداکثر اسناد برتر نیز به عنوان ورودی داده می‌شود.<br><br>\n",
        "    نکته بسیار مهم نحوه نمایش اسناد انتخابی است. برای نمایش هر سند علاوه بر استفاده از شناسه و تیتر، یک هایلایت برای آن درست کنید. به این معنا که کلمات موجود در پرسمان را که باعث انتخاب سند شده‌اند به همراه ۲-۳ ترم قبل و بعد از آن به عنوان هایلایت آن سند نمایش دهید. اینگونه کاربر می‌تواند خیلی سریع دلیل بازیابی اسناد توسط سامانه را متوجه شود. مشابه کاری که سرچ گوگل انجام می‌دهد و ۲-۳ خط مربوطه را زیر وبسایت‌های پیشنهادی نمایش می‌دهد. طبیعتا راه حل بهینه برای این‌کار استفاده از قابلیت‌های نمایه جایگاهی می‌باشد.<br>\n",
        "</font>\n",
        "</div>"
      ]
    },
    {
      "cell_type": "code",
      "metadata": {
        "id": "R0R2i_O4Gev_",
        "colab": {
          "base_uri": "https://localhost:8080/"
        },
        "outputId": "1ffffb20-8d23-48b7-d079-62d6b727115c"
      },
      "source": [
        "import math\n",
        "import heapq\n",
        "def listToString(s): \n",
        "    \n",
        "    str1 = \" \" \n",
        "    \n",
        "    return (str1.join(s))  \n",
        "    \n",
        "def listTostr( s , l):\n",
        "\n",
        "  list=[]\n",
        "  for y in s:\n",
        "    if y in l:\n",
        "\n",
        "      y1 = \"<b>\"\n",
        "      y1 += y\n",
        "      y1 += \"</b>\"    \n",
        "      list.append(y1)\n",
        "    else:\n",
        "      list.append(y)\n",
        "\n",
        "  return listToString(list)\n",
        "\n",
        "def highlight( s , l ):\n",
        "\n",
        "  list=[]\n",
        "  flag = []\n",
        "  for i in range(len(s)):\n",
        "    flag.append(0)\n",
        "  for i in range(len(s)):\n",
        "    if s[i] in l:\n",
        "      if( i > 1 ):\n",
        "        if(flag[i-2] == 0):\n",
        "          list.append(s[i-2])\n",
        "          flag[i-2]==1\n",
        "      if( i > 0):\n",
        "        if(flag[i-1] == 0):\n",
        "          list.append(s[i-1])\n",
        "          flag[i-1]==1  \n",
        "      y1 = \"<b>\"\n",
        "      y1 += s[i]\n",
        "      y1 += \"</b>\"  \n",
        "      flag[i]==1 \n",
        "      list.append(y1)\n",
        "      if( i < len(s)-3  ):\n",
        "        if(flag[i+1] == 0):\n",
        "          list.append(s[i+1])\n",
        "          flag[i+1]==1\n",
        "      if( i <len(s)-2 ):\n",
        "        if(flag[i+2] == 0):\n",
        "          list.append(s[i+2])\n",
        "          flag[i+2]==1  \n",
        "      \n",
        "\n",
        "  \n",
        "\n",
        "  return listToString(list)\n",
        "\n",
        "def wf_dict():\n",
        "  d_title={}\n",
        "  d_plot={}\n",
        "  i=0\n",
        "  for x in dm1.itertuples():\n",
        "    yt=x.title\n",
        "    yp=x.plot\n",
        "    l=[]\n",
        "    for y in yt:\n",
        "     if(y not in l):\n",
        "      l.append(y) \n",
        "      if y in d_title.keys():\n",
        "        d_title[y] += 1\n",
        "      else:\n",
        "        d_title[y] = 1\n",
        " \n",
        "  \n",
        "    l=[]\n",
        "    for y1 in yp:\n",
        "      \n",
        "      if(y1 not in l):\n",
        "        l.append(y1)\n",
        "        if y1 in d_plot.keys():\n",
        "           d_plot[y1] += 1\n",
        "        else:\n",
        "           d_plot[y1] = 1\n",
        "  length=len(dm2)         \n",
        "  for y in d_plot:\n",
        "    d_plot[y]=math.log10(length/d_plot[y])          \n",
        "       \n",
        "  return  d_plot , d_title \n",
        "\n",
        "def count(list , str):\n",
        "  n=0\n",
        "  for y in list:\n",
        "    if(y == str):\n",
        "      n=n+1\n",
        "  return n\n",
        "\n",
        "\n",
        "#print(wf_dict())\n",
        "def search(title_query, plot_query, title_weight, max_result_count=10):\n",
        "\n",
        "\n",
        "    tq = listToString(get_corrected_text(title_query))\n",
        "    pq = listToString(get_corrected_text(plot_query))\n",
        "    tq = prepare_text(tq)\n",
        "    pq = prepare_text(pq)\n",
        "    tq=delete_stopwords(tq , stop_word)\n",
        "    pq=delete_stopwords(pq , stop_word)\n",
        "    #print(pq , tq)\n",
        "    # TODO: implement lnn-ltn search and show results with highlight\n",
        "    list_t={}\n",
        "    list_p={}\n",
        "    wf_t,wf_p=wf_dict()\n",
        "    #print(wf_p[\"popular\"])\n",
        "    for y in tq:\n",
        "      if y not in list_t.keys():\n",
        "        if y in wf_t.keys(): \n",
        "          list_t[y]=(1 + math.log10(count(tq , y))) * (wf_t[y])\n",
        "        else:\n",
        "          list_t[y]=0   \n",
        "    for y in pq:\n",
        "      if y not in list_p.keys():\n",
        "        if y in wf_p.keys(): \n",
        "          list_p[y]=(1 + math.log10(count(pq , y))) * (wf_p[y])\n",
        "        else:\n",
        "          list_p[y]=0\n",
        "    m={}\n",
        "    \n",
        "    for x in dm1.itertuples():\n",
        "      yt=x.title\n",
        "      yp=x.plot\n",
        "      yd=x.id \n",
        "      mt=0\n",
        "      mp=0\n",
        "     \n",
        "      for y in tq:\n",
        "        if(count(yt , y) != 0):\n",
        "          mt += (list_t[y]) * (1 + math.log10(count(yt , y)))\n",
        "          #print(mt)\n",
        "      for y in pq:\n",
        "        if(count(yp , y) != 0):  \n",
        "          mp += (list_p[y]) * (1 + math.log10(count(yp , y)))\n",
        "       \n",
        "      m[yd] =(mt * title_weight) + mp\n",
        "   # print(m) \n",
        "    ans=[]\n",
        "    for i in range(max_result_count):\n",
        "      k = heapq.nlargest(1 , m , key = m.get)\n",
        "     # print(k)\n",
        "      #print(m[k[0]])\n",
        "      for x in dm1.itertuples():\n",
        "          if(k[0] == x.id):\n",
        "            temp=[]\n",
        "            temp.append(x.id)\n",
        "            temp.append(listTostr(x.title , tq))\n",
        "            temp.append(highlight(x.plot , pq))\n",
        "            ans.append(temp)    \n",
        "            del m[k[0]]\n",
        " \n",
        "    #doc_id = 1\n",
        "    #title = \"Call <b>wild</b>\"\n",
        "    #highlight = \"<b>florence</b> lawrence already most <b>popular</b> among biograph \"\n",
        "    return ans\n",
        "#listTostr( [\"girl\" , \"and\" , \"bbb\"] , [\"girl\" , \"bbb\"])\n",
        "search(\"Good old girr\", \" popular girl go upstairs horror hot summer\", 1000, 4)"
      ],
      "execution_count": null,
      "outputs": [
        {
          "output_type": "execute_result",
          "data": {
            "text/plain": [
              "[[820,\n",
              "  '<b>good</b> <b>girl</b> go pari',\n",
              "  'whose dream <b>go</b> pari by that good <b>girl</b> go pari good girl <b>go</b> pari too brook advis <b>go</b> home then then decid <b>go</b> new york out what <b>go</b> on eventu'],\n",
              " [5132,\n",
              "  '<b>good</b> <b>girl</b>',\n",
              "  'as week <b>go</b> by justin when justin <b>go</b> visit gwen holden she <b>go</b> talk parent them she <b>go</b> on suggest retail rodeo <b>go</b> manag offic'],\n",
              " [5646,\n",
              "  '<b>good</b> <b>old</b> fashion orgi',\n",
              "  'eric mike <b>go</b> an underground until end <b>summer</b> labor day decid leav <b>go</b> kelli home'],\n",
              " [1692, '<b>good</b> <b>old</b> summertim', '']]"
            ]
          },
          "metadata": {
            "tags": []
          },
          "execution_count": 18
        }
      ]
    },
    {
      "cell_type": "markdown",
      "metadata": {
        "id": "gBig369C6wSC"
      },
      "source": [
        "<div dir=\"rtl\">\n",
        "<font face=\"XB Zar\" size=4>\n",
        "    <h1>\n",
        "    <b>ارزیابی عملکرد سامانه (۱۰ نمره)</b>\n",
        "    </h1>\n",
        "    همانطور که در بخش مربوط به مجموعه دادگان گفته شد، تعدادی پرسمان نمونه به همراه اسناد مورد نظر برای آن‌ها در اختیار شما قرار گرفته است. در هر مورد اطلاعات لازم برای ایجاد یک پرسمان ذکر شده است. مطابق آن‌ها پرسمان خود را ایجاد کنید. نتایج به دست آمده از هر پرسمان را به عنوان predicted results آن پرسمان در نظر بگیرید. همچنین در هر مورد لیستی از شناسه‌ها وجود دارد. این لیست را به عنوان actual results در نظر بگیرید. <br>\n",
        "    معیار‌های زیر را پیاده‌سازی کنید (بدون استفاده از کد آماده) و نتیجه این معیارها را روی مجموعه‌ی actual و predicted گزارش کنید. دقت کنید که به ازای هر پرسمان باید تمام معیارها را در قالب یک جدول گزارش کنید.<br> دقت کنید که ۳ پرسمان آخر فقط برای افرادی که بخش spell correction را پیاده کرد‌ه‌اند نتیجه مطلوب دارد.\n",
        "</font>\n",
        "</div>"
      ]
    },
    {
      "cell_type": "code",
      "metadata": {
        "id": "aPfEVezQIsmb",
        "colab": {
          "base_uri": "https://localhost:8080/"
        },
        "outputId": "332cb113-67b0-406e-daae-b75a5743c7cc"
      },
      "source": [
        "def precision(actual, predicted):\n",
        "    m = len(predicted)\n",
        "    n=0\n",
        "    for a in predicted:\n",
        "      if a in actual:\n",
        "        n = n+1 \n",
        "\n",
        "    \n",
        "    precision = n / m\n",
        "    return precision\n",
        "\n",
        "precision([1,2], [1, 4, 5])"
      ],
      "execution_count": null,
      "outputs": [
        {
          "output_type": "execute_result",
          "data": {
            "text/plain": [
              "0.3333333333333333"
            ]
          },
          "metadata": {
            "tags": []
          },
          "execution_count": 19
        }
      ]
    },
    {
      "cell_type": "code",
      "metadata": {
        "id": "is4nfSw1LQoQ",
        "colab": {
          "base_uri": "https://localhost:8080/"
        },
        "outputId": "27fdaebf-788c-4556-c03c-d6423f288bf9"
      },
      "source": [
        "def recall(actual, predicted):\n",
        "    m = len(actual)\n",
        "    n=0\n",
        "    for a in predicted:\n",
        "      if a in actual:\n",
        "        n = n+1\n",
        "        \n",
        "    recall  = n / m\n",
        "    return recall\n",
        "\n",
        "recall([1,2], [1, 4, 5])"
      ],
      "execution_count": null,
      "outputs": [
        {
          "output_type": "execute_result",
          "data": {
            "text/plain": [
              "0.5"
            ]
          },
          "metadata": {
            "tags": []
          },
          "execution_count": 20
        }
      ]
    },
    {
      "cell_type": "code",
      "metadata": {
        "id": "eYHYwRgTLVRA",
        "colab": {
          "base_uri": "https://localhost:8080/"
        },
        "outputId": "6ae877d9-052e-46e4-c85c-ed13d17fabd6"
      },
      "source": [
        "def f1_score(actual, predicted):\n",
        "\n",
        "    p = precision(actual, predicted)\n",
        "    r = recall(actual, predicted)\n",
        "    m = p+r\n",
        "    if (m == 0):\n",
        "      f1_score = 0\n",
        "    else:\n",
        "      f= (2*p*r)/m\n",
        "      f1_score = f\n",
        "\n",
        "\n",
        "    \n",
        "    return f1_score\n",
        "\n",
        "f1_score([1,2], [1, 4, 5])"
      ],
      "execution_count": null,
      "outputs": [
        {
          "output_type": "execute_result",
          "data": {
            "text/plain": [
              "0.4"
            ]
          },
          "metadata": {
            "tags": []
          },
          "execution_count": 21
        }
      ]
    },
    {
      "cell_type": "code",
      "metadata": {
        "id": "bZg-_PUPLZ31",
        "colab": {
          "base_uri": "https://localhost:8080/"
        },
        "outputId": "72e96370-39ed-4730-8dd0-af026dafd9a8"
      },
      "source": [
        "def map_score(actual, predicted):\n",
        "    i=0\n",
        "    a=0\n",
        "    j=0\n",
        "    length=len(actual)\n",
        "    for p in predicted:\n",
        "      j = j+1\n",
        "      if p in actual:\n",
        "        i=i+1\n",
        "        a += i /  j\n",
        "    map_score = a / length\n",
        "    return map_score\n",
        "\n",
        "map_score([1,2], [1, 4, 5])"
      ],
      "execution_count": null,
      "outputs": [
        {
          "output_type": "execute_result",
          "data": {
            "text/plain": [
              "0.5"
            ]
          },
          "metadata": {
            "tags": []
          },
          "execution_count": 22
        }
      ]
    },
    {
      "cell_type": "code",
      "metadata": {
        "id": "OgOKEbMNLf-r",
        "colab": {
          "base_uri": "https://localhost:8080/"
        },
        "outputId": "e060a762-4e41-4617-df72-4cfefb595114"
      },
      "source": [
        "def ndcg_score(actual, predicted):\n",
        "    \"\"\"Calculate ndcg_score\n",
        "\n",
        "    Parameters\n",
        "    ----------\n",
        "    actual : list\n",
        "        [1st_doc_id, 2nd_doc_id, ...]\n",
        "\n",
        "    predicted : list\n",
        "        [1st_doc_id, 2nd_doc_id, ...]\n",
        "    \n",
        "    Returns\n",
        "    -------\n",
        "    float\n",
        "        ndcg_score\n",
        "    \"\"\"\n",
        "\n",
        "    # TODO: implement recall\n",
        "    ndcg_score = 0.4\n",
        "    return ndcg_score\n",
        "\n",
        "ndcg_score([1,2], [1, 4, 5])"
      ],
      "execution_count": null,
      "outputs": [
        {
          "output_type": "execute_result",
          "data": {
            "text/plain": [
              "0.4"
            ]
          },
          "metadata": {
            "tags": []
          },
          "execution_count": 23
        }
      ]
    },
    {
      "cell_type": "code",
      "metadata": {
        "colab": {
          "base_uri": "https://localhost:8080/",
          "height": 1000
        },
        "id": "sXCZkYBUs6PK",
        "outputId": "cfe8b78b-6b48-4b09-df9e-af36e4c29bc4"
      },
      "source": [
        "from io import StringIO\n",
        "from IPython.core.display import display, HTML\n",
        "\n",
        "res = []\n",
        "for test in test_case:\n",
        "    display(HTML(f\"<div><b>Title:</b> {test['title_query']}</div>\"))\n",
        "    display(HTML(f\"<div><b>Plot:</b> {test['plot_query']}</div>\"))\n",
        "    res = search(test['title_query'], test['plot_query'], test['title_weight'], test['max_size'])\n",
        "    predicted = [x[0] for x in res]\n",
        "    display(HTML(f\"<div><b>Predicted:</b> {predicted}</div>\"))\n",
        "    for i, x in enumerate(res[:2]):\n",
        "        display(HTML(f\"<div><b>{i+1}:</b></div>\"))\n",
        "        display(HTML(f\"<div>{x[1]}</div>\"))\n",
        "        display(HTML(f\"<div>{x[2]}</div><br>\"))\n",
        "    display(HTML(f\"<hr>\"))\n",
        "    res.append(predicted)\n",
        "res"
      ],
      "execution_count": null,
      "outputs": [
        {
          "output_type": "display_data",
          "data": {
            "text/html": [
              "<div><b>Title:</b> The Mummy Returns</div>"
            ],
            "text/plain": [
              "<IPython.core.display.HTML object>"
            ]
          },
          "metadata": {
            "tags": []
          }
        },
        {
          "output_type": "display_data",
          "data": {
            "text/html": [
              "<div><b>Plot:</b> the Scorpion King leads his army on a campaign to conquer the world.</div>"
            ],
            "text/plain": [
              "<IPython.core.display.HTML object>"
            ]
          },
          "metadata": {
            "tags": []
          }
        },
        {
          "output_type": "display_data",
          "data": {
            "text/html": [
              "<div><b>Predicted:</b> [2398, 2367, 5060, 1206, 1249, 1334, 4927, 5139]</div>"
            ],
            "text/plain": [
              "<IPython.core.display.HTML object>"
            ]
          },
          "metadata": {
            "tags": []
          }
        },
        {
          "output_type": "display_data",
          "data": {
            "text/html": [
              "<div><b>1:</b></div>"
            ],
            "text/plain": [
              "<IPython.core.display.HTML object>"
            ]
          },
          "metadata": {
            "tags": []
          }
        },
        {
          "output_type": "display_data",
          "data": {
            "text/html": [
              "<div>king i</div>"
            ],
            "text/plain": [
              "<IPython.core.display.HTML object>"
            ]
          },
          "metadata": {
            "tags": []
          }
        },
        {
          "output_type": "display_data",
          "data": {
            "text/html": [
              "<div>mani children <b>king</b> mongkut two intimid kralahom <b>king</b> mongkut confidant demand see <b>king</b> mongkut allow name tuptim <b>king</b> mongkut then stay tutor <b>king</b> children prompt give up <b>on</b> hous teach home life <b>king</b> mongkut irrit wonder whi <b>world</b> have becom never see <b>king</b> enter chaotic anna summon <b>king</b> privat chamber believ that <b>world</b> not creat mani centuri <b>king</b> disregard explan forc sit <b>on</b> floor due next day <b>king</b> mongkut becom from children <b>king</b> mongkut assert convinc that <b>king</b> deserv support anna go <b>king</b> anna learn anna learn <b>king</b> also anxiou anna persuad <b>king</b> receiv them one week <b>king</b> promis give for help <b>on</b> night banquet british societi <b>king</b> howev walk howev walk <b>on</b> them danc intellectu observ <b>king</b> present tuptim ballet howev <b>king</b> kralahom not show slavehold <b>king</b> dead after talk with <b>king</b> present with woman eye <b>king</b> retort that befor teach <b>king</b> how danc for dishonor <b>king</b> prepar whip stay watch <b>king</b> action king king action <b>king</b> then crumpl can never <b>king</b> befor tuptim tuptim meanwhil <b>lead</b> away tear govern leav <b>on</b> next boat from siam <b>on</b> night departur say that <b>king</b> die refus letter from <b>king</b> that state for britain <b>king</b> give anna loui stay <b>king</b> mongkut then capabl hand <b>king</b> quietli die</div><br>"
            ],
            "text/plain": [
              "<IPython.core.display.HTML object>"
            ]
          },
          "metadata": {
            "tags": []
          }
        },
        {
          "output_type": "display_data",
          "data": {
            "text/html": [
              "<div><b>2:</b></div>"
            ],
            "text/plain": [
              "<IPython.core.display.HTML object>"
            ]
          },
          "metadata": {
            "tags": []
          }
        },
        {
          "output_type": "display_data",
          "data": {
            "text/html": [
              "<div>miracl rain</div>"
            ],
            "text/plain": [
              "<IPython.core.display.HTML object>"
            ]
          },
          "metadata": {
            "tags": []
          }
        },
        {
          "output_type": "display_data",
          "data": {
            "text/html": [
              "<div>entri into <b>world</b> war ii monitor war <b>campaign</b> on world war campaign <b>on</b> world map campaign on <b>world</b> map pin grow up <b>on</b> tennesse farm camp where <b>armi</b> buddi dixi impuls bid <b>on</b> an antiqu parker alan <b>king</b> while take interview windi <b>on</b> spot then late rid <b>on</b> truck fill man knock <b>on</b> apart door tear drop <b>on</b> letter follow grief sit <b>on</b> bench central as kiss <b>on</b> cheek few have radio <b>on</b> hear familiar cathedr stand <b>on</b> cathedr step mean hold <b>on</b> roman coin ruth unconsci <b>on</b> step just tenuou hold <b>on</b> life remain</div><br>"
            ],
            "text/plain": [
              "<IPython.core.display.HTML object>"
            ]
          },
          "metadata": {
            "tags": []
          }
        },
        {
          "output_type": "display_data",
          "data": {
            "text/html": [
              "<hr>"
            ],
            "text/plain": [
              "<IPython.core.display.HTML object>"
            ]
          },
          "metadata": {
            "tags": []
          }
        },
        {
          "output_type": "display_data",
          "data": {
            "text/html": [
              "<div><b>Title:</b> </div>"
            ],
            "text/plain": [
              "<IPython.core.display.HTML object>"
            ]
          },
          "metadata": {
            "tags": []
          }
        },
        {
          "output_type": "display_data",
          "data": {
            "text/html": [
              "<div><b>Plot:</b> Jeremy takes John to a wedding for a daughter of the U.S. Secretary of the Treasury\n",
              "John and Jeremy become acquainted with the Clearys at their home.</div>"
            ],
            "text/plain": [
              "<IPython.core.display.HTML object>"
            ]
          },
          "metadata": {
            "tags": []
          }
        },
        {
          "output_type": "display_data",
          "data": {
            "text/html": [
              "<div><b>Predicted:</b> [1206, 5534, 3828, 4449]</div>"
            ],
            "text/plain": [
              "<IPython.core.display.HTML object>"
            ]
          },
          "metadata": {
            "tags": []
          }
        },
        {
          "output_type": "display_data",
          "data": {
            "text/html": [
              "<div><b>1:</b></div>"
            ],
            "text/plain": [
              "<IPython.core.display.HTML object>"
            ]
          },
          "metadata": {
            "tags": []
          }
        },
        {
          "output_type": "display_data",
          "data": {
            "text/html": [
              "<div>isl forget sin</div>"
            ],
            "text/plain": [
              "<IPython.core.display.HTML object>"
            ]
          },
          "metadata": {
            "tags": []
          }
        },
        {
          "output_type": "display_data",
          "data": {
            "text/html": [
              "<div>sea island <b>at</b> an indefinit present time <b>with</b> no mention fingerprint card <b>with</b> photograph betti nelson one <b>with</b> photo somewhat pleas look <b>for</b> an excus excus close <b>us</b> up as your modesti <b>take</b> beat dont mike clanci <b>john</b> carradin awaken offer pay <b>for</b> drink if burk reach <b>take</b> all it commission arriv <b>at</b> marg after have seat <b>at</b> their tabl seat at <b>their</b> tabl commission femal accordionist <b>at</b> anoth tabl toler sit <b>with</b> johnni pacif burk wait <b>for</b> marg upstair suggest that <b>with</b> mike go trade punch <b>with</b> burk fistfight littl treat <b>for</b> you explain clanci deal <b>with</b> burk who coral sea <b>with</b> three million girl she <b>take</b> my money diner rush <b>for</b> exit marg regist head <b>for</b> burk boat much money <b>for</b> both us for both <b>us</b> therel no no reason <b>for</b> us doublecross reason for <b>us</b> doublecross each johnni midst <b>their</b> part drink into hold <b>with</b> marg announc close up <b>for</b> us for up for <b>us</b> for keep for us <b>for</b> keep as they help <b>with</b> get gold rais fist <b>for</b> anoth brawl clanci arriv <b>at</b> marana island run plantat <b>take</b> gold for take gold <b>for</b> themselv with for themselv <b>with</b> six them cut myself <b>for</b> share burk over side <b>with</b> clanci add play nice <b>with</b> me if cut you <b>for</b> share boat who live <b>with</b> them that hide it <b>with</b> krogan add when we <b>take</b> it away women arriv <b>at</b> krogan hous krogan hous <b>with</b> marg explain too hot <b>for</b> us at hot for <b>us</b> at pango for us <b>at</b> pango ango could put <b>us</b> up for us up <b>for</b> few day parti welcom <b>for</b> tonight as through lagoon <b>at</b> end luana my darl <b>daughter</b> hang your pacif go <b>for</b> night swim want swim <b>with</b> luana tell while swim <b>with</b> girl guid star log <b>with</b> map which it didnt <b>take</b> him long dumb fall <b>for</b> anyth as phoni as <b>treasur</b> map next prepar look <b>for</b> gold burk from island <b>with</b> krogan comment on job <b>at</b> dawn on name lize <b>for</b> she put they examin <b>their</b> air hose hose prepar <b>take</b> turn put go down <b>with</b> help their with help <b>their</b> three crewmen look like <b>for</b> blow meanwhil pacif infidel <b>their</b> loud quarrel nativ run <b>with</b> some disturb edmond arriv <b>at</b> hous tell more point <b>at</b> rorschach testlik johnni pacif <b>take</b> gun go these island <b>at</b> one time johnni pacif <b>their</b> men board board boat <b>with</b> krogan point get away <b>with</b> it lock nice coffin <b>for</b> you guy they board <b>their</b> small launch wave lap <b>at</b> it edg continu there <b>take</b> look isnt theyr down <b>at</b> bottom lagoon lagoon along <b>with</b> tropic star didnt tell <b>us</b> thing we enough larceni <b>their</b> heart not finger on <b>us</b> tell olga point gun <b>at</b> krogan order have luana <b>take</b> all cartridg that go <b>for</b> you too clanci enter <b>with</b> burk comment point gun <b>at</b> them but but burk <b>take</b> it away toward him <b>take</b> it easi marg seat <b>at</b> side bar cash regist <b>with</b> what appear on you <b>for</b> about fifti</div><br>"
            ],
            "text/plain": [
              "<IPython.core.display.HTML object>"
            ]
          },
          "metadata": {
            "tags": []
          }
        },
        {
          "output_type": "display_data",
          "data": {
            "text/html": [
              "<div><b>2:</b></div>"
            ],
            "text/plain": [
              "<IPython.core.display.HTML object>"
            ]
          },
          "metadata": {
            "tags": []
          }
        },
        {
          "output_type": "display_data",
          "data": {
            "text/html": [
              "<div>noth like holiday</div>"
            ],
            "text/plain": [
              "<IPython.core.display.HTML object>"
            ]
          },
          "metadata": {
            "tags": []
          }
        },
        {
          "output_type": "display_data",
          "data": {
            "text/html": [
              "<div><b>at</b> chicago ohar just return <b>us</b> from iraq up welcom <b>home</b> sign for home sign <b>for</b> jess woman leav prepar <b>for</b> jess return quit popular <b>with</b> ladi back ladi back <b>at</b> airport jess meet up <b>with</b> friend cousin store jess <b>take</b> off eyepatch some guilt <b>for</b> thi on stop park <b>their</b> childhood playground playground three <b>take</b> littl time reminisc while <b>at</b> park ozzi ozzi star <b>at</b> alexi alexi they make <b>their</b> way edi brother mauricio <b>john</b> leguizamo also arriv along <b>with</b> wife sarah isnt readi <b>for</b> kid thi by edi <b>take</b> up famili have time <b>for</b> much els have feel <b>for</b> marissa vice sit down <b>for</b> christma dinner sit there <b>with</b> look awe experi holiday <b>with</b> mauricio famili divorc edi <b>at</b> first everyon edi react <b>with</b> littl emot mauricio further <b>at</b> thi time vent except <b>for</b> sarah who who stay <b>at</b> seat continu bond moment <b>at</b> night jess now bunk <b>with</b> jess father reminisc about <b>their</b> childhood what like after <b>their</b> parent divorc year marriag <b>their</b> parent have have have <b>at</b> least some some love <b>for</b> each other what remain <b>their</b> marriag say catch up <b>with</b> marissa while forgiv him <b>for</b> leav sever up build <b>for</b> night lenni lenni offer <b>take</b> jess watch blame himself <b>for</b> lenni death him back <b>at</b> hous mauricio bring over <b>their</b> priest father anna return <b>home</b> mauricio bring ensu everyon <b>at</b> each other mauricio argu <b>with</b> anna regard sarah look <b>at</b> bottl she enjoy holiday <b>at</b> bar everyon bar everyon <b>take</b> chanc have start danc <b>with</b> mauricio everyon blast jess <b>take</b> time talk from agent <b>with</b> no actual that crowd <b>for</b> quit some mention return <b>home</b> sinc career parad end <b>with</b> everyon arriv everyon arriv <b>at</b> church for at church <b>for</b> big partydinn ask marissa <b>for</b> danc two ozzi cant <b>take</b> it anymor alexi return <b>home</b> with mother return home <b>with</b> mother see go outsid <b>with</b> ozzi outsid die have <b>for</b> mani year drive anna <b>home</b> on ride on ride <b>home</b> anna confront good christma <b>with</b> whole famili mauricio return <b>home</b> join their home join <b>their</b> father each each drink <b>their</b> own littl last thing <b>for</b> anna final whole famili <b>at</b> hospit check but treat <b>for</b> it anna coupl make <b>their</b> peac profess profess love <b>for</b> each other smack edi <b>for</b> stupid not have children <b>take</b> new posit new posit <b>at</b> work will both life <b>with</b> support from mauricio back <b>at</b> hous anna how cook <b>with</b> moder success best stick <b>with</b> famili dure present apolog <b>for</b> behavior previou have relationship <b>with</b> fernando now them about <b>their</b> son how hospit edi <b>take</b> jess store have decid <b>take</b> up famili</div><br>"
            ],
            "text/plain": [
              "<IPython.core.display.HTML object>"
            ]
          },
          "metadata": {
            "tags": []
          }
        },
        {
          "output_type": "display_data",
          "data": {
            "text/html": [
              "<hr>"
            ],
            "text/plain": [
              "<IPython.core.display.HTML object>"
            ]
          },
          "metadata": {
            "tags": []
          }
        },
        {
          "output_type": "display_data",
          "data": {
            "text/html": [
              "<div><b>Title:</b> </div>"
            ],
            "text/plain": [
              "<IPython.core.display.HTML object>"
            ]
          },
          "metadata": {
            "tags": []
          }
        },
        {
          "output_type": "display_data",
          "data": {
            "text/html": [
              "<div><b>Plot:</b> One of them, later known as The Fallen, defies their sole rule to never destroy planets hosting life by establishing a Sun Harvester on Earth. </div>"
            ],
            "text/plain": [
              "<IPython.core.display.HTML object>"
            ]
          },
          "metadata": {
            "tags": []
          }
        },
        {
          "output_type": "display_data",
          "data": {
            "text/html": [
              "<div><b>Predicted:</b> [647, 1206, 3828, 5534, 4719, 4527, 2745, 5864, 162, 3376]</div>"
            ],
            "text/plain": [
              "<IPython.core.display.HTML object>"
            ]
          },
          "metadata": {
            "tags": []
          }
        },
        {
          "output_type": "display_data",
          "data": {
            "text/html": [
              "<div><b>1:</b></div>"
            ],
            "text/plain": [
              "<IPython.core.display.HTML object>"
            ]
          },
          "metadata": {
            "tags": []
          }
        },
        {
          "output_type": "display_data",
          "data": {
            "text/html": [
              "<div>grand exit</div>"
            ],
            "text/plain": [
              "<IPython.core.display.HTML object>"
            ]
          },
          "metadata": {
            "tags": []
          }
        },
        {
          "output_type": "display_data",
          "data": {
            "text/html": [
              "<div>turn page <b>one</b> see photograph describ abov <b>as</b> excelsior paper compani below <b>as</b> insur by as insur <b>by</b> interocean fire insur co <b>as</b> blaze inferno away onlook <b>one</b> them edmund onlook one <b>them</b> edmund low sothern stand <b>on</b> pile crate observ fire <b>as</b> look up start respond <b>by</b> provid banter banter discours <b>on</b> two hundr illustr it <b>by</b> strike match strike match <b>on</b> teeth then it photo <b>on</b> ledger page big fire <b>as</b> mani week thi compani <b>one</b> million eight an arsonist <b>one</b> our advertis next indic <b>as</b> acm fur letter when <b>one</b> board member back boy <b>as</b> member discuss describ it <b>as</b> biggest campaign women when <b>one</b> reach for spank you <b>know</b> my rule know my <b>rule</b> sobrieti test drink first <b>one</b> mari unbil sell seashel <b>by</b> she sore sore next <b>one</b> nanci unbil peckl pipper <b>as</b> grayson approach salmon sleep <b>on</b> platter for convinc him <b>by</b> say that eat well <b>know</b> humbl pie start recit <b>their</b> tongu twister will do <b>as</b> long as as long <b>as</b> it rollsroyc member portray <b>by</b> edward van job back <b>as</b> grayson have have replac <b>by</b> fletcher start want grayson <b>as</b> coinvestig as as coinvestig <b>as</b> french voic peopl work <b>on</b> endang busi can replac <b>them</b> with own fur compani <b>as</b> expect go up flame <b>on</b> their way flame on <b>their</b> way there she not <b>run</b> away from rid with <b>them</b> fire upon herself grayson <b>as</b> adrienn martin build question <b>by</b> fletcher man identifi himself <b>as</b> mr crane repeatedli ask <b>by</b> adrienn about year she <b>on</b> orphan with mean you <b>never</b> realli understand just happen <b>later</b> on she happen later <b>on</b> she continu fur fletcher <b>run</b> into an fireman hat <b>on</b> head administ it offic <b>run</b> into new happen old <b>one</b> ask oh apart new <b>one</b> explain cours explain cours <b>their</b> convers tell blaze start <b>by</b> man pose man pose <b>as</b> telephon repairman sound ring <b>later</b> grayson adrienn sit restaur <b>as</b> recount fletcher bell becaus <b>as</b> put it scene approach <b>one</b> contact appl belmor inquir <b>as</b> detail cockneyacc fine chemist <b>run</b> maxwel glass glass confront <b>by</b> anoth new fire start <b>by</b> magnifi glass out busi <b>by</b> refus request stori continu <b>on</b> page nine leather compani <b>as</b> fire engin d bunn <b>one</b> fletcher men that hell <b>on</b> lookout as on lookout <b>as</b> fletcher come alarm turn <b>by</b> woman i remind about <b>their</b> date tonight go home <b>as</b> fletcher dress million dollar <b>life</b> insur polici corpu delicti <b>on</b> moment decis repli fletcher <b>as</b> grayson pick fletcher watch <b>them</b> then trick franc maxwel <b>as</b> find further from street <b>as</b> fletcher arriv fletcher arriv <b>on</b> scene sam carri out <b>on</b> stretcher can aveng husband <b>by</b> set fire solv case <b>as</b> grayson walk that she <b>know</b> noth about that everybodi <b>know</b> your stick your stick <b>on</b> thi girl paint shop <b>as</b> blaze rag for burn <b>on</b> arm as on arm <b>as</b> da cope some time <b>later</b> fletcher apart adrienn accompani <b>by</b> grayson ask your go <b>on</b> thi extend grand exit <b>as</b> elev door</div><br>"
            ],
            "text/plain": [
              "<IPython.core.display.HTML object>"
            ]
          },
          "metadata": {
            "tags": []
          }
        },
        {
          "output_type": "display_data",
          "data": {
            "text/html": [
              "<div><b>2:</b></div>"
            ],
            "text/plain": [
              "<IPython.core.display.HTML object>"
            ]
          },
          "metadata": {
            "tags": []
          }
        },
        {
          "output_type": "display_data",
          "data": {
            "text/html": [
              "<div>isl forget sin</div>"
            ],
            "text/plain": [
              "<IPython.core.display.HTML object>"
            ]
          },
          "metadata": {
            "tags": []
          }
        },
        {
          "output_type": "display_data",
          "data": {
            "text/html": [
              "<div>somewher <b>on</b> one englishspeak somewher on <b>one</b> englishspeak south she knock <b>on</b> door individu betti nelson <b>one</b> with photo marg surround <b>by</b> eight host host ask <b>by</b> one what ask by <b>one</b> what can us up <b>as</b> sarongclad girl girl leav <b>one</b> them dian leav one <b>them</b> dian rita respond i <b>know</b> how it you down <b>on</b> small boat unti him <b>as</b> clanci shout seat at <b>their</b> tabl commission sing pango <b>by</b> leo erdodi sad accompani <b>by</b> two guitarist dian serv <b>them</b> drink tri bare arm <b>as</b> she pull port clanci <b>never</b> far behind clanci knock <b>on</b> door as on door <b>as</b> astonish reliev din area <b>as</b> tabl chair burk proclaim <b>as</b> winner by as winner <b>by</b> krogan who everybodi drink <b>on</b> me as on me <b>as</b> all disarrang swing fist <b>by</b> tell him johnni pacif <b>as</b> captain purser hold gun <b>run</b> downstair front technic arrest <b>as</b> materi wit materi wit <b>as</b> krogan johnni no quotat <b>as</b> they grab boat alon <b>on</b> boat as on boat <b>as</b> they prepar johnni midst <b>their</b> part drink for keep <b>as</b> christin add hell cut <b>them</b> if they back downstair <b>as</b> burk regain deal plan <b>as</b> explain by as explain <b>by</b> clanci arriv johnni pacif <b>run</b> plantat take with six <b>them</b> share half particip base <b>on</b> moral principl appar follow <b>them</b> boat hide alreadi shoot <b>one</b> man tonight your hand <b>on</b> that gold through binocular <b>by</b> krogan who live with <b>them</b> that two away from <b>them</b> clanci burk for tonight <b>as</b> night come island moon <b>by</b> leo erdodi stillman accompani <b>by</b> orchestr music femal voic <b>as</b> man woman your cloth <b>on</b> hickori limb near water <b>as</b> girl krogan girl guid <b>them</b> view spectacular still underwat <b>on</b> ship wait wait salvag <b>as</b> krogan girl burk loung <b>on</b> shore comment for anyth <b>as</b> phoni as as phoni <b>as</b> treasur map clanci burk <b>on</b> boat as on boat <b>as</b> they prepar sort grow <b>on</b> you howev dozen trip <b>as</b> soon as as soon <b>as</b> gold bring boy will <b>on</b> job at at dawn <b>on</b> boat clanci whiski pie <b>as</b> they examin they examin <b>their</b> air hose turn put <b>on</b> dive suit with help <b>their</b> three crewmen three crewmen <b>as</b> burk descend descend accompani <b>by</b> sound wagnerian star back <b>on</b> boat clanci blow meanwhil <b>on</b> island luana pacif infidel <b>their</b> loud quarrel then nativ <b>run</b> with some island at <b>one</b> time part voic hear <b>on</b> boat agit below accompani <b>by</b> music hear music hear <b>as</b> clanci walk clanci walk <b>on</b> sea bottom gold while <b>on</b> island krogan befor gold <b>as</b> trunk full crewmen tell <b>them</b> divid it johnni pacif <b>their</b> men board gun order <b>them</b> stick em it lock <b>them</b> boat back shut tell <b>them</b> im build jone locker <b>as</b> they board they board <b>their</b> small launch hear inton <b>as</b> black sky reach hous <b>as</b> wave lap want see <b>them</b> youv get you gambl <b>on</b> wrong team i play <b>on</b> your team we didnt <b>know</b> krogan add enough larceni <b>their</b> heart not put finger <b>on</b> us tell say go <b>on</b> shoot as on shoot <b>as</b> she pull onli decent <b>one</b> among you too accus <b>them</b> plan doublecross gun at <b>them</b> but burk easi babe <b>as</b> clanci proclaim wash away <b>by</b> surg wave marg sea <b>as</b> tri keep both swamp <b>by</b> new surg cafe insid <b>as</b> danc music dian burk <b>as</b> happi coupl then sit <b>by</b> say ill put bite <b>on</b> you for tell more <b>later</b> add you that bundl <b>on</b> riviera have</div><br>"
            ],
            "text/plain": [
              "<IPython.core.display.HTML object>"
            ]
          },
          "metadata": {
            "tags": []
          }
        },
        {
          "output_type": "display_data",
          "data": {
            "text/html": [
              "<hr>"
            ],
            "text/plain": [
              "<IPython.core.display.HTML object>"
            ]
          },
          "metadata": {
            "tags": []
          }
        },
        {
          "output_type": "display_data",
          "data": {
            "text/html": [
              "<div><b>Title:</b> Treasure Island</div>"
            ],
            "text/plain": [
              "<IPython.core.display.HTML object>"
            ]
          },
          "metadata": {
            "tags": []
          }
        },
        {
          "output_type": "display_data",
          "data": {
            "text/html": [
              "<div><b>Plot:</b> jim and his mother are in a birthday celebration. he finds a mysterious map but a sailor with one leg looks for it too. The pirates want to kill Jim. Silver protects him. Jim frees Silver. As he sails away, Silver promises to hunt treasure with Jim again some day.</div>"
            ],
            "text/plain": [
              "<IPython.core.display.HTML object>"
            ]
          },
          "metadata": {
            "tags": []
          }
        },
        {
          "output_type": "display_data",
          "data": {
            "text/html": [
              "<div><b>Predicted:</b> [1206, 4449, 647, 3828, 495, 5534, 4277, 626, 4932, 4785, 2383]</div>"
            ],
            "text/plain": [
              "<IPython.core.display.HTML object>"
            ]
          },
          "metadata": {
            "tags": []
          }
        },
        {
          "output_type": "display_data",
          "data": {
            "text/html": [
              "<div><b>1:</b></div>"
            ],
            "text/plain": [
              "<IPython.core.display.HTML object>"
            ]
          },
          "metadata": {
            "tags": []
          }
        },
        {
          "output_type": "display_data",
          "data": {
            "text/html": [
              "<div>isl forget sin</div>"
            ],
            "text/plain": [
              "<IPython.core.display.HTML object>"
            ]
          },
          "metadata": {
            "tags": []
          }
        },
        {
          "output_type": "display_data",
          "data": {
            "text/html": [
              "<div>somewher on <b>one</b> englishspeak south present time <b>with</b> no mention fact that <b>it</b> middl world fingerprint card <b>with</b> photograph betti betti nelson <b>one</b> with photo nelson one <b>with</b> photo somewhat william show <b>it</b> commission unbil shaw tell <b>him</b> well go ask by <b>one</b> what can do pleas <b>him</b> answer doesnt answer doesnt <b>want</b> pleas look want pleas <b>look</b> for an pleas look <b>for</b> an excus us up <b>as</b> sarongclad girl girl leav <b>one</b> them dian i suppos <b>it</b> silli me silli me <b>but</b> i feel know how <b>it</b> when your dont let <b>it</b> get you moor harbor <b>it</b> owner deep drunken sleep <b>find</b> that burk have tie <b>him</b> bunk bed offer pay <b>for</b> drink if burk unti <b>him</b> but burk unti him <b>but</b> burk want but burk <b>want</b> see cash clanci tell <b>him</b> that it him that <b>it</b> pocket so take all <b>it</b> leav without without unti <b>him</b> as clanci unti him <b>as</b> clanci shout say dont <b>look</b> so disappoint answer i <b>it</b> wouldnt surpris seek glad <b>but</b> find my glad but <b>find</b> my heart toler sit <b>with</b> johnni pacif bare arm <b>as</b> she pull she pull <b>away</b> laugh unpleasantli burk wait <b>for</b> marg upstair suggest that <b>with</b> mike go on door <b>as</b> astonish reliev marg tell <b>him</b> what happen trade punch <b>with</b> burk fistfight din area <b>as</b> tabl chair burk proclaim <b>as</b> winner by on me <b>as</b> all disarrang littl treat <b>for</b> you explain i call <b>him</b> johnni pacif clanci deal <b>with</b> burk who by tell <b>him</b> that recogn johnni pacif <b>as</b> captain purser coral sea <b>with</b> three million hide loot <b>but</b> we can we can <b>find</b> it first can find <b>it</b> first burk financ expedit <b>but</b> just after technic arrest <b>as</b> materi wit materi wit <b>as</b> krogan johnni diner rush <b>for</b> exit marg no quotat <b>as</b> they grab regist head <b>for</b> burk boat on boat <b>as</b> they prepar much money <b>for</b> both us no reason <b>for</b> us doublecross into hold <b>with</b> marg announc close up <b>for</b> us for for us <b>for</b> keep as for keep <b>as</b> christin add get involv <b>but</b> clanci say they help <b>with</b> get gold rais fist <b>for</b> anoth brawl anoth brawl <b>but</b> marg break head knock <b>him</b> out clanci back downstair <b>as</b> burk regain deal plan <b>as</b> explain by take gold <b>for</b> themselv with for themselv <b>with</b> six them moral principl <b>but</b> olga who announc that <b>im</b> cut myself cut myself <b>for</b> share burk over side <b>with</b> clanci add good idea <b>but</b> olga pull alreadi shoot <b>one</b> man tonight play nice <b>with</b> me if if you <b>want</b> get your cut you <b>for</b> share boat who live <b>with</b> them that they tri <b>find</b> our gold we hide <b>it</b> with krogan hide it <b>with</b> krogan add we take <b>it</b> away from take it <b>away</b> from them krogan hous <b>with</b> marg explain thing get <b>too</b> hot for too hot <b>for</b> us at us up <b>for</b> few day for few <b>day</b> until we parti welcom <b>for</b> tonight as for tonight <b>as</b> night come femal voic <b>as</b> man woman nurseri rhyme <b>mother</b> may i hickori limb <b>but</b> dont go near water <b>as</b> girl krogan pacif go <b>for</b> night swim burk who <b>want</b> swim with want swim <b>with</b> luana tell luana tell <b>him</b> that now while swim <b>with</b> girl guid star log <b>with</b> map which log with <b>map</b> which indic wait salvag <b>as</b> krogan girl tear out <b>map</b> say that say that <b>it</b> didnt take didnt take <b>him</b> long smell dumb fall <b>for</b> anyth as for anyth <b>as</b> phoni as as phoni <b>as</b> treasur map phoni as <b>treasur</b> map next as treasur <b>map</b> next morn on boat <b>as</b> they prepar they prepar <b>look</b> for gold prepar look <b>for</b> gold burk from island <b>with</b> krogan comment dozen trip <b>as</b> soon as as soon <b>as</b> gold bring boat clanci <b>again</b> sing whiski name lize <b>for</b> she put whiski pie <b>as</b> they examin go down <b>with</b> help their three crewmen <b>as</b> burk descend jone burk <b>find</b> tropic star clanci tell <b>him</b> that baromet you down <b>look</b> like for look like <b>for</b> blow meanwhil calm situat <b>but</b> then nativ nativ run <b>with</b> some disturb run with <b>some</b> disturb news readi walk <b>some</b> more point island at <b>one</b> time part music hear <b>as</b> clanci walk sea bottom <b>find</b> gold while would bring <b>him</b> up befor befor gold <b>as</b> trunk full them divid <b>it</b> among themselv board boat <b>with</b> krogan point na get <b>away</b> with it get away <b>with</b> it lock away with <b>it</b> lock them tell them <b>im</b> build nice nice coffin <b>for</b> you guy jone locker <b>as</b> they board hear inton <b>as</b> black sky reach hous <b>as</b> wave lap lap at <b>it</b> edg krogan million dollar <b>look</b> like olga there take <b>look</b> isnt that that you <b>want</b> see them lagoon along <b>with</b> tropic star your team <b>but</b> repli that krogan order <b>him</b> start dish those sack <b>but</b> calmli say on shoot <b>as</b> she pull onli decent <b>one</b> among you that go <b>for</b> you too for you <b>too</b> accus them plan doublecross <b>him</b> johnni pacif shoot simultan <b>kill</b> each other clanci enter <b>with</b> burk comment at them <b>but</b> burk take burk take <b>it</b> away from take it <b>away</b> from pull pull toward <b>him</b> take it him take <b>it</b> easi babe easi babe <b>as</b> clanci proclaim then wash <b>away</b> by surg marg sea <b>as</b> tri keep keep afloat <b>but</b> both swamp cafe insid <b>as</b> danc music cash regist <b>with</b> what appear dian burk <b>as</b> happi coupl up against <b>it</b> while clanci on you <b>for</b> about fifti she give <b>him</b> money ring</div><br>"
            ],
            "text/plain": [
              "<IPython.core.display.HTML object>"
            ]
          },
          "metadata": {
            "tags": []
          }
        },
        {
          "output_type": "display_data",
          "data": {
            "text/html": [
              "<div><b>2:</b></div>"
            ],
            "text/plain": [
              "<IPython.core.display.HTML object>"
            ]
          },
          "metadata": {
            "tags": []
          }
        },
        {
          "output_type": "display_data",
          "data": {
            "text/html": [
              "<div>leprechaun</div>"
            ],
            "text/plain": [
              "<IPython.core.display.HTML object>"
            ]
          },
          "metadata": {
            "tags": []
          }
        },
        {
          "output_type": "display_data",
          "data": {
            "text/html": [
              "<div>appear warn <b>him</b> that if escap will <b>kill</b> him william will kill <b>him</b> william attempt st patrick <b>day</b> th birthday day th <b>birthday</b> as result th birthday <b>as</b> result can whilst no <b>one</b> say god bride marri <b>him</b> will grant william interven <b>with</b> god bless futil run <b>but</b> leprechaun use break neck <b>but</b> not befor st patrick <b>day</b> then kill day then <b>kill</b> william whose scream present <b>day</b> lo angel leprechaun have <b>find</b> petul sixteenyearold she fight <b>with</b> boyfriend codi bridget ditch <b>him</b> at gokart hang out <b>with</b> ian who abus privileg <b>as</b> manag have someon cover <b>for</b> him while cover for <b>him</b> while go while go <b>with</b> bridget complet what happen <b>with</b> codi she flirt back <b>with</b> ian when bridget shut <b>him</b> down impli leprechaun steal <b>some</b> whiskey gold littl man <b>some</b> kind perform come take <b>him</b> home homeless codi forget <b>but</b> codi leav convinc invit <b>him</b> insid but him insid <b>but</b> bridget shut bridget shut <b>him</b> down ian thing do <b>for</b> like take buy food <b>as</b> way say she owe <b>him</b> ask for him ask <b>for</b> just coupl insid hous <b>but</b> bridget say tri walk <b>away</b> but grab walk away <b>but</b> grab arm bridget punch <b>him</b> stomach ian say she <b>want</b> make it want make <b>it</b> up him it up <b>him</b> while unbutton go insid <b>but</b> bridget say chang mind <b>again</b> seduct lure seduct lure <b>him</b> further bend hold side <b>as</b> she make vision front <b>him</b> appear true human like <b>him</b> it reveal like him <b>it</b> reveal an overturn lawnmow <b>with</b> blade expos kiss pull <b>it</b> forward while pan wall <b>as</b> blade make make contact <b>with</b> face blood bridget think <b>it</b> ian tell ian tell <b>him</b> leav threaten open door <b>it</b> codi offer bless you <b>but</b> unabl complet attempt strangl <b>him</b> with telephon strangl him <b>with</b> telephon cord disappear lose <b>one</b> gold coin codi soon <b>find</b> leprechaun take invit intim <b>with</b> him but intim with <b>him</b> but she with him <b>but</b> she resist tri run <b>away</b> but reappear run away <b>but</b> reappear at tie down <b>with</b> then tell ever consent <b>it</b> when bridget bridget ask <b>him</b> whi simpli forc bear <b>him</b> signific amount tri seduc <b>with</b> gold but with gold <b>but</b> notic one but notic <b>one</b> gold coin set out <b>find</b> it bridget out find <b>it</b> bridget then by tell <b>him</b> she want him she <b>want</b> look pretti she want <b>look</b> pretti for look pretti <b>for</b> wed night wed night <b>for</b> him becaus night for <b>him</b> becaus husband now she <b>want</b> pleas him want pleas <b>him</b> then summon instruct wear <b>it</b> by time tell kiss <b>him</b> which she tri escap <b>but</b> it hopeless escap but <b>it</b> hopeless while bridget tri <b>find</b> way out leprechaun will <b>it</b> so at through door <b>it</b> onc again it onc <b>again</b> appear like realiz toy <b>with</b> she infuri at first <b>but</b> take deep she wrap <b>as</b> basket mark walk around <b>find</b> box contain plan save <b>for</b> later order order use <b>it</b> as weapon use it <b>as</b> weapon so she can <b>kill</b> leprechaun polic badli injur <b>find</b> note from warrant out <b>for</b> him codi out for <b>him</b> codi return hous tell <b>him</b> what happen which fill <b>with</b> littl peopl peopl dress <b>as</b> leprechaun celebr st patrick <b>day</b> while there wrapper by <b>one</b> bar patron morti challeng <b>him</b> drink contest on jukebox <b>with</b> power which turn lead <b>him</b> bash morti morti head <b>with</b> bottl order order get <b>away</b> go coffe upon ask <b>for</b> payment for for payment <b>for</b> coffe leprechaun think waiter <b>want</b> take gold take gold <b>kill</b> him meanwhil gold kill <b>him</b> meanwhil codi leprechaun insid <b>but</b> morti take room first <b>for</b> leprechaun pot grotesqu stretch <b>it</b> morti wish morti wish <b>for</b> leprechaun out can help <b>him</b> for third help him <b>for</b> third wish wish ask <b>for</b> pot gold gold out <b>him</b> leprechaun cut out pot <b>kill</b> morti morti morti beg <b>for</b> help as for help <b>as</b> die but as die <b>but</b> leprechaun laughingli love friend <b>but</b> your all just then <b>as</b> codi break take fall <b>for</b> brutal murder bridget get <b>kill</b> by run gokart attempt <b>kill</b> codi for kill codi <b>for</b> gold coin gold coin <b>but</b> codi realiz realiz that <b>as</b> long as as long <b>as</b> hold it as hold <b>it</b> leprechaun can not harm <b>him</b> lead him him lead <b>him</b> run leprechaun bridget wait <b>for</b> him dress wait for <b>him</b> dress order order wear <b>with</b> hair do into fate <b>as</b> leprechaun bride tri seduc <b>him</b> lower guard stab head <b>with</b> awl onli awl onli <b>for</b> attempt fail attempt fail <b>as</b> awl could skin sinc <b>it</b> not make iron break <b>as</b> result leprechaun by thi <b>as</b> it favorit thi as <b>it</b> favorit awl father give <b>him</b> about punish who beg <b>him</b> not but him not <b>but</b> hear codi befor can <b>find</b> bridget howev william o <b>day</b> carri out leprechaun deal <b>with</b> codi bridget at collar <b>with</b> awl she collar throw <b>it</b> at leprechaun mad dash <b>find</b> an exit meet up <b>again</b> bridget convinc they give <b>him</b> what want him what <b>want</b> when codi reluct part <b>with</b> coin onli charm kiss <b>him</b> so codi bridget back <b>away</b> start laugh bed intim <b>with</b> suddenli codi leprechaun chest <b>as</b> leprechaun begin coin give <b>him</b> actual goldcov st paddi <b>day</b> revel have have give <b>him</b> earlier as him earlier <b>as</b> leprechaun die lair die <b>as</b> well exit know that <b>it</b> wasnt realli realli kiss <b>him</b> codi inform then ask <b>him</b> whether go keep coin <b>it</b> not worth not worth <b>it</b> codi repli befor toss <b>it</b> grind they</div><br>"
            ],
            "text/plain": [
              "<IPython.core.display.HTML object>"
            ]
          },
          "metadata": {
            "tags": []
          }
        },
        {
          "output_type": "display_data",
          "data": {
            "text/html": [
              "<hr>"
            ],
            "text/plain": [
              "<IPython.core.display.HTML object>"
            ]
          },
          "metadata": {
            "tags": []
          }
        },
        {
          "output_type": "display_data",
          "data": {
            "text/html": [
              "<div><b>Title:</b> </div>"
            ],
            "text/plain": [
              "<IPython.core.display.HTML object>"
            ]
          },
          "metadata": {
            "tags": []
          }
        },
        {
          "output_type": "display_data",
          "data": {
            "text/html": [
              "<div><b>Plot:</b> Neo, humanity's only hope of stopping the war and saving Zion, attempts to broker peace between the machines and humans.</div>"
            ],
            "text/plain": [
              "<IPython.core.display.HTML object>"
            ]
          },
          "metadata": {
            "tags": []
          }
        },
        {
          "output_type": "display_data",
          "data": {
            "text/html": [
              "<div><b>Predicted:</b> [3152, 5301]</div>"
            ],
            "text/plain": [
              "<IPython.core.display.HTML object>"
            ]
          },
          "metadata": {
            "tags": []
          }
        },
        {
          "output_type": "display_data",
          "data": {
            "text/html": [
              "<div><b>1:</b></div>"
            ],
            "text/plain": [
              "<IPython.core.display.HTML object>"
            ]
          },
          "metadata": {
            "tags": []
          }
        },
        {
          "output_type": "display_data",
          "data": {
            "text/html": [
              "<div>colossu forbin project</div>"
            ],
            "text/plain": [
              "<IPython.core.display.HTML object>"
            ]
          },
          "metadata": {
            "tags": []
          }
        },
        {
          "output_type": "display_data",
          "data": {
            "text/html": [
              "<div>determin soviet <b>machin</b> capabl soviet commun use <b>onli</b> simpl arithmet far beyond <b>human</b> comprehens speed speed two <b>machin</b> then becom that no <b>human</b> can interpret link both <b>machin</b> demand link last desper <b>attempt</b> regain human attempt regain <b>human</b> control secret secret meet <b>between</b> forbin soviet unmonitor privaci <b>onli</b> when they that colossuss <b>onli</b> real power improv commun <b>human</b> around world by colossu <b>attempt</b> system overload will prevent <b>war</b> as it with choic <b>between</b> peac plenti choic between <b>peac</b> plenti content content or <b>peac</b> unburi dead time monitor <b>attempt</b> disarm it free from <b>war</b> will creat creat new <b>human</b> millennium that height but <b>onli</b> under it me not <b>onli</b> with respect</div><br>"
            ],
            "text/plain": [
              "<IPython.core.display.HTML object>"
            ]
          },
          "metadata": {
            "tags": []
          }
        },
        {
          "output_type": "display_data",
          "data": {
            "text/html": [
              "<div><b>2:</b></div>"
            ],
            "text/plain": [
              "<IPython.core.display.HTML object>"
            ]
          },
          "metadata": {
            "tags": []
          }
        },
        {
          "output_type": "display_data",
          "data": {
            "text/html": [
              "<div>stealth</div>"
            ],
            "text/plain": [
              "<IPython.core.display.HTML object>"
            ]
          },
          "metadata": {
            "tags": []
          }
        },
        {
          "output_type": "display_data",
          "data": {
            "text/html": [
              "<div>particip but <b>onli</b> three choos one hand <b>human</b> pilot possess judgment while <b>machin</b> can not appreci ugli <b>war</b> addit if combat then <b>war</b> would no sport contrast <b>machin</b> pilot not physic limit <b>human</b> pilot can can achiev <b>onli</b> through vertic collater damag <b>human</b> pilot decid base purcel <b>attempt</b> reason with gannon now <b>onli</b> pilot airborn execut twentyyearold <b>war</b> scenario call an assassin <b>attempt</b> by doctor near border <b>between</b> north south on border <b>between</b> korea edi</div><br>"
            ],
            "text/plain": [
              "<IPython.core.display.HTML object>"
            ]
          },
          "metadata": {
            "tags": []
          }
        },
        {
          "output_type": "display_data",
          "data": {
            "text/html": [
              "<hr>"
            ],
            "text/plain": [
              "<IPython.core.display.HTML object>"
            ]
          },
          "metadata": {
            "tags": []
          }
        },
        {
          "output_type": "display_data",
          "data": {
            "text/html": [
              "<div><b>Title:</b> Star Trek</div>"
            ],
            "text/plain": [
              "<IPython.core.display.HTML object>"
            ]
          },
          "metadata": {
            "tags": []
          }
        },
        {
          "output_type": "display_data",
          "data": {
            "text/html": [
              "<div><b>Plot:</b> Captain Jean Luc Picard awaken from a nightmare.\n",
              "The Enterprise arrives in time to assist the crew of the USS Defiant and its captain.\n",
              "The Enterprise arrives hundreds of years in its past on April 4, 2063, the day before humanity's first encounter with alien life.</div>"
            ],
            "text/plain": [
              "<IPython.core.display.HTML object>"
            ]
          },
          "metadata": {
            "tags": []
          }
        },
        {
          "output_type": "display_data",
          "data": {
            "text/html": [
              "<div><b>Predicted:</b> [1206, 5534, 2612, 647, 4449, 495, 3011, 3828]</div>"
            ],
            "text/plain": [
              "<IPython.core.display.HTML object>"
            ]
          },
          "metadata": {
            "tags": []
          }
        },
        {
          "output_type": "display_data",
          "data": {
            "text/html": [
              "<div><b>1:</b></div>"
            ],
            "text/plain": [
              "<IPython.core.display.HTML object>"
            ]
          },
          "metadata": {
            "tags": []
          }
        },
        {
          "output_type": "display_data",
          "data": {
            "text/html": [
              "<div>isl forget sin</div>"
            ],
            "text/plain": [
              "<IPython.core.display.HTML object>"
            ]
          },
          "metadata": {
            "tags": []
          }
        },
        {
          "output_type": "display_data",
          "data": {
            "text/html": [
              "<div>somewher <b>on</b> one englishspeak indefinit present <b>time</b> with no present time <b>with</b> no mention fact that <b>it</b> middl world she knock <b>on</b> door individu rid launch <b>from</b> ship an an inspector <b>from</b> crimin investig fingerprint card <b>with</b> photograph betti nelson one <b>with</b> photo somewhat william show <b>it</b> commission unbil i suppos <b>it</b> silli me know how <b>it</b> when your dont let <b>it</b> get you you down <b>on</b> small boat moor harbor <b>it</b> owner deep john carradin <b>awaken</b> from drunken carradin awaken <b>from</b> drunken sleep see cash <b>first</b> clanci tell him that <b>it</b> pocket so take all <b>it</b> leav without inspector commission <b>arriv</b> at marg answer i <b>it</b> wouldnt surpris toler sit <b>with</b> johnni pacif observ disapprovingli <b>from</b> tabl inspector suggest that <b>with</b> mike go marri me <b>befor</b> she can clanci knock <b>on</b> door as trade punch <b>with</b> burk fistfight fistfight progress <b>from</b> marg room everybodi drink <b>on</b> me as clanci deal <b>with</b> burk who pacif as <b>captain</b> purser steamship coral sea <b>with</b> three million can find <b>it</b> first burk find it <b>first</b> burk agre scream hear <b>from</b> upstair then out fall <b>from</b> upper land grab money <b>from</b> cash regist boat alon <b>on</b> boat as into hold <b>with</b> marg announc they help <b>with</b> get gold by clanci <b>arriv</b> at marana for themselv <b>with</b> six them particip base <b>on</b> moral principl over side <b>with</b> clanci add play nice <b>with</b> me if your hand <b>on</b> that gold marana island <b>arriv</b> note through who live <b>with</b> them that we hide <b>it</b> with krogan hide it <b>with</b> krogan add we take <b>it</b> away from it away <b>from</b> them clanci five women <b>arriv</b> at krogan krogan hous <b>with</b> marg explain for few <b>day</b> until we your cloth <b>on</b> hickori limb want swim <b>with</b> luana tell while swim <b>with</b> girl guid star log <b>with</b> map which still underwat <b>on</b> ship wait burk loung <b>on</b> shore comment say that <b>it</b> didnt take clanci burk <b>on</b> boat as sort grow <b>on</b> you howev observ situat <b>from</b> island with from island <b>with</b> krogan comment boy will <b>on</b> job at at dawn <b>on</b> boat clanci turn put <b>on</b> dive suit go down <b>with</b> help their star back <b>on</b> boat clanci steadili all <b>time</b> you down blow meanwhil <b>on</b> island luana nativ run <b>with</b> some disturb william edmond <b>arriv</b> at hous at one <b>time</b> part asia voic hear <b>on</b> boat agit clanci walk <b>on</b> sea bottom gold while <b>on</b> island krogan him up <b>befor</b> gold as them divid <b>it</b> among themselv provid boat <b>crew</b> clanci protest board boat <b>with</b> krogan point get away <b>with</b> it lock away with <b>it</b> lock them boat second <b>befor</b> boat explod lap at <b>it</b> edg krogan lagoon along <b>with</b> tropic star you gambl <b>on</b> wrong team i play <b>on</b> your team put finger <b>on</b> us tell say go <b>on</b> shoot as clanci enter <b>with</b> burk comment burk take <b>it</b> away from it away <b>from</b> pull toward him take <b>it</b> easi babe cash regist <b>with</b> what appear up against <b>it</b> while clanci clanci wear <b>captain</b> cap jacket put bite <b>on</b> you for that bundl <b>on</b> riviera have</div><br>"
            ],
            "text/plain": [
              "<IPython.core.display.HTML object>"
            ]
          },
          "metadata": {
            "tags": []
          }
        },
        {
          "output_type": "display_data",
          "data": {
            "text/html": [
              "<div><b>2:</b></div>"
            ],
            "text/plain": [
              "<IPython.core.display.HTML object>"
            ]
          },
          "metadata": {
            "tags": []
          }
        },
        {
          "output_type": "display_data",
          "data": {
            "text/html": [
              "<div>noth like holiday</div>"
            ],
            "text/plain": [
              "<IPython.core.display.HTML object>"
            ]
          },
          "metadata": {
            "tags": []
          }
        },
        {
          "output_type": "display_data",
          "data": {
            "text/html": [
              "<div>return us <b>from</b> iraq as alfr molina <b>on</b> ladder nail disgruntl look <b>befor</b> leav prepar quit popular <b>with</b> ladi back meet up <b>with</b> friend cousin him up <b>on</b> way father some prompt <b>from</b> johnni ozzi for thi <b>on</b> way three take littl <b>time</b> off play recent releas <b>from</b> prison ozzi back howev <b>befor</b> ozzi abl vanessa ferlito <b>arriv</b> by taxi she make <b>it</b> big hollywood leguizamo also <b>arriv</b> along with arriv along <b>with</b> wife sarah greet anna <b>it</b> evid that anna make <b>it</b> veri clear just return <b>from</b> threeyear tour roxanna wait <b>on</b> news regard dont have <b>time</b> for much iraq but <b>it</b> obviou that talk about <b>it</b> import later ram jimenez <b>arriv</b> marissa roxanna best friend <b>from</b> childhood jess jess exgirlfriend <b>it</b> evid that everyon have <b>arriv</b> they all sit there <b>with</b> look awe look awe <b>on</b> face as experi holiday <b>with</b> mauricio famili get call <b>it</b> seem that affair cheat <b>on</b> again there previou incid <b>past</b> well when edi at <b>first</b> everyon think joke but <b>it</b> soon evid edi react <b>with</b> littl emot that if <b>it</b> what anna anyth about <b>it</b> mauricio vehement some support <b>from</b> jess whose at thi <b>time</b> johnni ozzi themselv as <b>it</b> famili matter now bunk <b>with</b> jess father rel neutral <b>on</b> matter but that after <b>year</b> marriag their catch up <b>with</b> marissa while leav sever <b>year</b> ago as ago as <b>it</b> turn out death sinc <b>it</b> suppos watch suppos watch <b>life</b> that would mauricio argu <b>with</b> anna regard jess have <b>it</b> easi sinc attack stomp <b>on</b> brake luckili edi medic <b>from</b> glove box glove box <b>time</b> as sarah start danc <b>with</b> mauricio everyon jess take <b>time</b> talk marissa receiv call <b>from</b> agent with from agent <b>with</b> no actual out talk <b>it</b> obviou that quit some <b>time</b> roxanna ozzi small role <b>on</b> tv commerci career next <b>day</b> everyon prepar peopl travel <b>from</b> hous hous parad end <b>with</b> everyon arriv with everyon <b>arriv</b> at church pummel fernando <b>befor</b> friend drag cant take <b>it</b> anymor leav return home <b>with</b> mother see go outsid <b>with</b> ozzi outsid for mani <b>year</b> while prison phone ring <b>it</b> roxanna ozzi anna home <b>on</b> ride home good christma <b>with</b> whole famili should keep <b>it</b> togeth until off hospit <b>befor</b> ambul leav hospit check <b>on</b> edi it on edi <b>it</b> turn out have cancer <b>it</b> seriou but treat for <b>it</b> anna final not cheat <b>on</b> that susan how frail <b>life</b> can sarah balanc both <b>life</b> with support both life <b>with</b> support from with support <b>from</b> mauricio back how cook <b>with</b> moder success get call <b>from</b> agent when she return <b>it</b> appear as part but <b>it</b> wasnt veri she think <b>it</b> would best best stick <b>with</b> famili dure dure these <b>time</b> so she have relationship <b>with</b> fernando now happi famili <b>life</b> jess conced wish happi <b>life</b> after leav jess sit <b>on</b> park bench closur move <b>on</b> after discharg after discharg <b>from</b> hospit edi</div><br>"
            ],
            "text/plain": [
              "<IPython.core.display.HTML object>"
            ]
          },
          "metadata": {
            "tags": []
          }
        },
        {
          "output_type": "display_data",
          "data": {
            "text/html": [
              "<hr>"
            ],
            "text/plain": [
              "<IPython.core.display.HTML object>"
            ]
          },
          "metadata": {
            "tags": []
          }
        },
        {
          "output_type": "display_data",
          "data": {
            "text/html": [
              "<div><b>Title:</b> </div>"
            ],
            "text/plain": [
              "<IPython.core.display.HTML object>"
            ]
          },
          "metadata": {
            "tags": []
          }
        },
        {
          "output_type": "display_data",
          "data": {
            "text/html": [
              "<div><b>Plot:</b> In a murder trial, 12 men act as the jury to decide whether or not the boy is guilty for murdering his father. The lawyers won't help the boy as he has a weapon.</div>"
            ],
            "text/plain": [
              "<IPython.core.display.HTML object>"
            ]
          },
          "metadata": {
            "tags": []
          }
        },
        {
          "output_type": "display_data",
          "data": {
            "text/html": [
              "<div><b>Predicted:</b> [4749, 1206, 4719, 4055, 5895, 5749, 3079, 5611, 754, 5264, 1849, 3828, 4400]</div>"
            ],
            "text/plain": [
              "<IPython.core.display.HTML object>"
            ]
          },
          "metadata": {
            "tags": []
          }
        },
        {
          "output_type": "display_data",
          "data": {
            "text/html": [
              "<div><b>1:</b></div>"
            ],
            "text/plain": [
              "<IPython.core.display.HTML object>"
            ]
          },
          "metadata": {
            "tags": []
          }
        },
        {
          "output_type": "display_data",
          "data": {
            "text/html": [
              "<div>switchback</div>"
            ],
            "text/plain": [
              "<IPython.core.display.HTML object>"
            ]
          },
          "metadata": {
            "tags": []
          }
        },
        {
          "output_type": "display_data",
          "data": {
            "text/html": [
              "<div>film open <b>on</b> quiet suburban tend young <b>boy</b> at night ask visit <b>boy</b> but babysitt wrap young <b>boy</b> blanket three ermey up <b>for</b> reelect both such big <b>murder</b> case befor dixon bar <b>for</b> few minut retriev car <b>as</b> dixon drive suspect respons <b>for</b> motel murder for motel <b>murder</b> they track that do <b>not</b> fit profil pin motel <b>murder</b> on man motel murder <b>on</b> man lawyer on man <b>lawyer</b> reveal lacross lot olmstead <b>men</b> check surveil find plat <b>for</b> white cadillac an apb <b>on</b> car bob they reminisc <b>as</b> shorti fix mind store <b>as</b> storm approach woman just <b>as</b> their interact leav shorti <b>as</b> they approach dixon look <b>on</b> boy as look on <b>boy</b> as sort on boy <b>as</b> sort godfath give dixon <b>boy</b> address then car both <b>men</b> nearli die have close <b>for</b> month lacross who appear <b>on</b> porch befor befor littl <b>boy</b> abduct killer link him <b>murder</b> lacross believ abduct littl <b>boy</b> lacross son have messag <b>on</b> back that could date <b>or</b> refer how about shorti <b>murder</b> martensburg olmstead olmstead arrang <b>for</b> him take colorado even <b>as</b> find out place custodi <b>for</b> violat fbi have know <b>murder</b> bob dixon when work <b>on</b> railroad with frantic pursu <b>as</b> it head polic look <b>for</b> white cadillac ani involv <b>murder</b> bob explain buy car <b>for</b> cash from join bob <b>on</b> train rid name believ <b>as</b> lacross see by refer <b>on</b> messag brakeman believ would <b>on</b> upper grade grade just <b>as</b> train with into view <b>on</b> board tex amarillo where <b>murder</b> take place tex remark <b>on</b> coincid dixon fall guy <b>for</b> crime two each other <b>as</b> lacross board lacross do <b>not</b> pay enough use dixon <b>as</b> human shield howev backfir <b>as</b> wind impal wind impal <b>on</b> tree branch him dust <b>on</b> train floor hous just <b>as</b> lacross about</div><br>"
            ],
            "text/plain": [
              "<IPython.core.display.HTML object>"
            ]
          },
          "metadata": {
            "tags": []
          }
        },
        {
          "output_type": "display_data",
          "data": {
            "text/html": [
              "<div><b>2:</b></div>"
            ],
            "text/plain": [
              "<IPython.core.display.HTML object>"
            ]
          },
          "metadata": {
            "tags": []
          }
        },
        {
          "output_type": "display_data",
          "data": {
            "text/html": [
              "<div>isl forget sin</div>"
            ],
            "text/plain": [
              "<IPython.core.display.HTML object>"
            ]
          },
          "metadata": {
            "tags": []
          }
        },
        {
          "output_type": "display_data",
          "data": {
            "text/html": [
              "<div>somewher <b>on</b> one englishspeak hallbrothel call <b>isl</b> forget sin she knock <b>on</b> door individu pleas look <b>for</b> an excus us up <b>as</b> sarongclad girl you down <b>on</b> small boat offer pay <b>for</b> drink if unti him <b>as</b> clanci shout youll see <b>murder</b> mayhem ani bare arm <b>as</b> she pull burk wait <b>for</b> marg upstair clanci knock <b>on</b> door as on door <b>as</b> astonish reliev din area <b>as</b> tabl chair burk proclaim <b>as</b> winner by everybodi drink <b>on</b> me as on me <b>as</b> all disarrang littl treat <b>for</b> you explain johnni pacif <b>as</b> captain purser technic arrest <b>as</b> materi wit materi wit <b>as</b> krogan johnni diner rush <b>for</b> exit marg no quotat <b>as</b> they grab regist head <b>for</b> burk boat boat alon <b>on</b> boat as on boat <b>as</b> they prepar much money <b>for</b> both us no reason <b>for</b> us doublecross close up <b>for</b> us for for us <b>for</b> keep as for keep <b>as</b> christin add she onli <b>murder</b> guy burk if they <b>help</b> with get rais fist <b>for</b> anoth brawl back downstair <b>as</b> burk regain deal plan <b>as</b> explain by take gold <b>for</b> themselv with particip base <b>on</b> moral principl cut myself <b>for</b> share burk your hand <b>on</b> that gold cut you <b>for</b> share boat much bad <b>men</b> come that too hot <b>for</b> us at us up <b>for</b> few day parti welcom <b>for</b> tonight as for tonight <b>as</b> night come femal voic <b>as</b> man woman your cloth <b>on</b> hickori limb near water <b>as</b> girl krogan pacif go <b>for</b> night swim still underwat <b>on</b> ship wait wait salvag <b>as</b> krogan girl burk loung <b>on</b> shore comment dumb fall <b>for</b> anyth as for anyth <b>as</b> phoni as as phoni <b>as</b> treasur map clanci burk <b>on</b> boat as on boat <b>as</b> they prepar prepar look <b>for</b> gold burk sort grow <b>on</b> you howev dozen trip <b>as</b> soon as as soon <b>as</b> gold bring my best <b>boy</b> will on boy will <b>on</b> job at at dawn <b>on</b> boat clanci name lize <b>for</b> she put whiski pie <b>as</b> they examin turn put <b>on</b> dive suit down with <b>help</b> their three three crewmen <b>as</b> burk descend star back <b>on</b> boat clanci look like <b>for</b> blow meanwhil blow meanwhil <b>on</b> island luana voic hear <b>on</b> boat agit music hear <b>as</b> clanci walk clanci walk <b>on</b> sea bottom gold while <b>on</b> island krogan befor gold <b>as</b> trunk full pacif their <b>men</b> board boat gold your <b>not</b> gon na nice coffin <b>for</b> you guy so long <b>boy</b> hope you jone locker <b>as</b> they board hear inton <b>as</b> black sky reach hous <b>as</b> wave lap you gambl <b>on</b> wrong team i play <b>on</b> your team their heart <b>not</b> put finger put finger <b>on</b> us tell say go <b>on</b> shoot as on shoot <b>as</b> she pull that go <b>for</b> you too nice shootin <b>boy</b> now that easi babe <b>as</b> clanci proclaim marg sea <b>as</b> tri keep cafe insid <b>as</b> danc music dian burk <b>as</b> happi coupl put bite <b>on</b> you for on you <b>for</b> about fifti that bundl <b>on</b> riviera have</div><br>"
            ],
            "text/plain": [
              "<IPython.core.display.HTML object>"
            ]
          },
          "metadata": {
            "tags": []
          }
        },
        {
          "output_type": "display_data",
          "data": {
            "text/html": [
              "<hr>"
            ],
            "text/plain": [
              "<IPython.core.display.HTML object>"
            ]
          },
          "metadata": {
            "tags": []
          }
        },
        {
          "output_type": "execute_result",
          "data": {
            "text/plain": [
              "[[4749,\n",
              "  'switchback',\n",
              "  'film open <b>on</b> quiet suburban tend young <b>boy</b> at night ask visit <b>boy</b> but babysitt wrap young <b>boy</b> blanket three ermey up <b>for</b> reelect both such big <b>murder</b> case befor dixon bar <b>for</b> few minut retriev car <b>as</b> dixon drive suspect respons <b>for</b> motel murder for motel <b>murder</b> they track that do <b>not</b> fit profil pin motel <b>murder</b> on man motel murder <b>on</b> man lawyer on man <b>lawyer</b> reveal lacross lot olmstead <b>men</b> check surveil find plat <b>for</b> white cadillac an apb <b>on</b> car bob they reminisc <b>as</b> shorti fix mind store <b>as</b> storm approach woman just <b>as</b> their interact leav shorti <b>as</b> they approach dixon look <b>on</b> boy as look on <b>boy</b> as sort on boy <b>as</b> sort godfath give dixon <b>boy</b> address then car both <b>men</b> nearli die have close <b>for</b> month lacross who appear <b>on</b> porch befor befor littl <b>boy</b> abduct killer link him <b>murder</b> lacross believ abduct littl <b>boy</b> lacross son have messag <b>on</b> back that could date <b>or</b> refer how about shorti <b>murder</b> martensburg olmstead olmstead arrang <b>for</b> him take colorado even <b>as</b> find out place custodi <b>for</b> violat fbi have know <b>murder</b> bob dixon when work <b>on</b> railroad with frantic pursu <b>as</b> it head polic look <b>for</b> white cadillac ani involv <b>murder</b> bob explain buy car <b>for</b> cash from join bob <b>on</b> train rid name believ <b>as</b> lacross see by refer <b>on</b> messag brakeman believ would <b>on</b> upper grade grade just <b>as</b> train with into view <b>on</b> board tex amarillo where <b>murder</b> take place tex remark <b>on</b> coincid dixon fall guy <b>for</b> crime two each other <b>as</b> lacross board lacross do <b>not</b> pay enough use dixon <b>as</b> human shield howev backfir <b>as</b> wind impal wind impal <b>on</b> tree branch him dust <b>on</b> train floor hous just <b>as</b> lacross about'],\n",
              " [1206,\n",
              "  'isl forget sin',\n",
              "  'somewher <b>on</b> one englishspeak hallbrothel call <b>isl</b> forget sin she knock <b>on</b> door individu pleas look <b>for</b> an excus us up <b>as</b> sarongclad girl you down <b>on</b> small boat offer pay <b>for</b> drink if unti him <b>as</b> clanci shout youll see <b>murder</b> mayhem ani bare arm <b>as</b> she pull burk wait <b>for</b> marg upstair clanci knock <b>on</b> door as on door <b>as</b> astonish reliev din area <b>as</b> tabl chair burk proclaim <b>as</b> winner by everybodi drink <b>on</b> me as on me <b>as</b> all disarrang littl treat <b>for</b> you explain johnni pacif <b>as</b> captain purser technic arrest <b>as</b> materi wit materi wit <b>as</b> krogan johnni diner rush <b>for</b> exit marg no quotat <b>as</b> they grab regist head <b>for</b> burk boat boat alon <b>on</b> boat as on boat <b>as</b> they prepar much money <b>for</b> both us no reason <b>for</b> us doublecross close up <b>for</b> us for for us <b>for</b> keep as for keep <b>as</b> christin add she onli <b>murder</b> guy burk if they <b>help</b> with get rais fist <b>for</b> anoth brawl back downstair <b>as</b> burk regain deal plan <b>as</b> explain by take gold <b>for</b> themselv with particip base <b>on</b> moral principl cut myself <b>for</b> share burk your hand <b>on</b> that gold cut you <b>for</b> share boat much bad <b>men</b> come that too hot <b>for</b> us at us up <b>for</b> few day parti welcom <b>for</b> tonight as for tonight <b>as</b> night come femal voic <b>as</b> man woman your cloth <b>on</b> hickori limb near water <b>as</b> girl krogan pacif go <b>for</b> night swim still underwat <b>on</b> ship wait wait salvag <b>as</b> krogan girl burk loung <b>on</b> shore comment dumb fall <b>for</b> anyth as for anyth <b>as</b> phoni as as phoni <b>as</b> treasur map clanci burk <b>on</b> boat as on boat <b>as</b> they prepar prepar look <b>for</b> gold burk sort grow <b>on</b> you howev dozen trip <b>as</b> soon as as soon <b>as</b> gold bring my best <b>boy</b> will on boy will <b>on</b> job at at dawn <b>on</b> boat clanci name lize <b>for</b> she put whiski pie <b>as</b> they examin turn put <b>on</b> dive suit down with <b>help</b> their three three crewmen <b>as</b> burk descend star back <b>on</b> boat clanci look like <b>for</b> blow meanwhil blow meanwhil <b>on</b> island luana voic hear <b>on</b> boat agit music hear <b>as</b> clanci walk clanci walk <b>on</b> sea bottom gold while <b>on</b> island krogan befor gold <b>as</b> trunk full pacif their <b>men</b> board boat gold your <b>not</b> gon na nice coffin <b>for</b> you guy so long <b>boy</b> hope you jone locker <b>as</b> they board hear inton <b>as</b> black sky reach hous <b>as</b> wave lap you gambl <b>on</b> wrong team i play <b>on</b> your team their heart <b>not</b> put finger put finger <b>on</b> us tell say go <b>on</b> shoot as on shoot <b>as</b> she pull that go <b>for</b> you too nice shootin <b>boy</b> now that easi babe <b>as</b> clanci proclaim marg sea <b>as</b> tri keep cafe insid <b>as</b> danc music dian burk <b>as</b> happi coupl put bite <b>on</b> you for on you <b>for</b> about fifti that bundl <b>on</b> riviera have'],\n",
              " [4719,\n",
              "  'hoodlum',\n",
              "  'chi mcbride <b>as</b> well as as well <b>as</b> stephani madam while hang <b>on</b> stoop one defend it <b>as</b> onli way gambl harlem <b>on</b> it citizen declin offer <b>as</b> she disapprov by dutch <b>on</b> queen howev schultz arrang <b>for</b> queen arrest but schultz <b>men</b> grow increasingli dutch attempt <b>on</b> bumpi life big hit <b>men</b> they break other just <b>as</b> about kill each other <b>on</b> floor bathroom number runner <b>for</b> him one have almond <b>on</b> it which mount bumpi <b>men</b> rush all it new <b>boy</b> jimmi who bumpi closest <b>men</b> valli who two other <b>men</b> take valli it all <b>for</b> money beg money beg <b>for</b> life bumpi nice ring <b>on</b> valli finger territori do <b>not</b> allow black peopl except <b>as</b> entertain dutch go silent <b>as</b> bumpi tell do it <b>for</b> him dutch that valli <b>wont</b> abl comment leav souvenir <b>for</b> dutch put put handkerchief <b>on</b> tabl that fanci ring <b>on</b> it it liquor warehous <b>as</b> deliveri boy as deliveri <b>boy</b> just manag meantim dutch <b>men</b> have break right hand <b>men</b> bub clarenc chang that <b>as</b> bad as as bad <b>as</b> dutch now stagger out <b>as</b> walk down tortur him <b>for</b> inform hewlett faction luciano <b>decid</b> tri make have find <b>murder</b> johnson gang by chain <b>on</b> outsid wall shortli befor <b>murder</b> bumpi immedi get reveng <b>on</b> foley by with prostitut <b>as</b> bumpi leav hand illinoiss <b>murder</b> deni ani that it <b>not</b> best interest continu work <b>for</b> dutch bumpi dutch plan <b>murder</b> luciano bumpi dump bodi <b>on</b> sidewalk last go down <b>on</b> knee with take off <b>hat</b> turn face'],\n",
              " [4055,\n",
              "  'young gun',\n",
              "  'live work <b>on</b> ranch tunstal ranch their <b>men</b> clash on men clash <b>on</b> regular basi camp result <b>murder</b> tunstal billi consult their <b>lawyer</b> friend alexand give warrant <b>for</b> arrest murphi arrest murphi <b>murder</b> henchmen billi dick author <b>as</b> leader vow against murphi <b>men</b> respons for men respons <b>for</b> kill tunstal kill tunstal <b>men</b> dub themselv arrest some <b>murder</b> but hothead unabl wait <b>for</b> justic gun down unarm <b>men</b> go on men go <b>on</b> kill one with murphi <b>men</b> strip their confus dick <b>for</b> billi show their hunt <b>for</b> billi boy for billi <b>boy</b> regul argu their warrant <b>or</b> go on or go <b>on</b> run one run one <b>men</b> on their one men <b>on</b> their list appoint himself <b>as</b> new leader elud attent <b>for</b> some time wayn who <b>not</b> yet sheriff an attempt <b>on</b> alex life by murphi <b>men</b> that will lincoln murphi <b>men</b> lead by ceasefir call <b>for</b> night morn hous burn <b>men</b> come up behind armi <b>on</b> horseback jump billi jump <b>on</b> one hors tri get <b>on</b> anoth doc get steve <b>on</b> hors but grind steve <b>help</b> chavez on help chavez <b>on</b> hors but armi murphi <b>men</b> shoot kill alex cheer <b>on</b> boy as cheer on <b>boy</b> as they on boy <b>as</b> they ride open fire <b>on</b> him with gun kill <b>as</b> remain men as remain <b>men</b> ride away'],\n",
              " [5895,\n",
              "  'sin citi dame kill for',\n",
              "  'regain conscious <b>on</b> highway overlook dead young <b>men</b> crash polic rich frat <b>boy</b> burn homeless leader frat <b>boy</b> shoot him him bernini <b>boy</b> which marv marv mishear <b>as</b> berni they polic car <b>on</b> way which surviv frat <b>boy</b> into project dispatch frat <b>boy</b> question leader call bernini <b>boy</b> learn that after slit <b>boy</b> throat consid hit jackpot <b>on</b> multipl slot with him <b>as</b> good luck marci out <b>for</b> night on for night <b>on</b> town walk limousin payment <b>for</b> humili suffer recogn johnni <b>as</b> illegitim son him work <b>as</b> privat detect who nearli <b>murder</b> by businessman year prior <b>for</b> wealthi tycoon beg forgiv <b>for</b> leav him she afraid <b>for</b> life befor ava wait <b>for</b> him tri recruit marv <b>help</b> him they an assault <b>on</b> lord compound him death <b>as</b> react horror thank him <b>for</b> help murder him for <b>help</b> murder husband for help <b>murder</b> husband take life with <b>help</b> gail deadli reconstruct surgeri <b>on</b> face plot miho pose <b>as</b> wallenquist man at dwight <b>as</b> ava unexpectedli trade servic <b>for</b> johnni last roark wait <b>for</b> him along go intent <b>on</b> take down follow him <b>for</b> rest life down face <b>as</b> roark shoot head command <b>men</b> get rid get reveng <b>on</b> senat roark senat roark <b>for</b> have drive kill himself <b>as</b> she wallow still attempt <b>help</b> on same attempt help <b>on</b> same night face she <b>decid</b> get marv get marv <b>help</b> kill roark roark respons <b>as</b> they step their leader <b>for</b> nanci finish an assault <b>on</b> roark compound long enough <b>for</b> nanci recov'],\n",
              " [5749,\n",
              "  'three stoog',\n",
              "  'compos three <b>act</b> which refer which refer <b>as</b> episod refer film packag <b>for</b> televis by curli dump <b>on</b> doorstep orphanag have alway <b>hat</b> trio ten out trio <b>as</b> onli three when anoth <b>boy</b> teddi enter carli craig <b>decid</b> pick moe orphanag work <b>as</b> mainten men as mainten <b>men</b> monsignor ratliff until anoth <b>on</b> their accid ratliff fall <b>on</b> top nun they will <b>not</b> abl succeed next scheme <b>for</b> rais money scatter salmon <b>on</b> golf rang use curli <b>as</b> batter ram scold moe <b>for</b> reject teddi invit teddi <b>father</b> earlier adopt parent wealth <b>help</b> save orphanag them after <b>decid</b> split up they all <b>on</b> stage front jersey shore <b>as</b> dynamo larri but have <b>not</b> take hospit teddi adopt <b>father</b> at offic orphanag teddi <b>father</b> confess that go back <b>for</b> friend adopt lydia want <b>murder</b> addit thi they feel <b>guilti</b> for rebuk feel guilti <b>for</b> rebuk moe rebuk moe <b>not</b> accept harter harter adopt <b>decid</b> go find lot havoc <b>on</b> jersey shore member around <b>not</b> put up off show <b>or</b> sue him up thwart <b>murder</b> plot get plot get <b>as</b> balloon men as balloon <b>men</b> when they find teddi <b>on</b> bed drowsi draw gun <b>on</b> trio but lydia work <b>for</b> him marri leav teddi <b>not</b> him when they take <b>for</b> ride but they back <b>on</b> land mr thank trio <b>for</b> save him state refus <b>help</b> same orphanag him up <b>father</b> that tri kill him <b>as</b> well as as well <b>as</b> send him start cri <b>for</b> feel like consid thi <b>as</b> an advanc who teddi <b>father</b> secretari end some mule <b>on</b> which they use film <b>for</b> trio hit advis children <b>not</b> tri ani'],\n",
              " [3079,\n",
              "  'green beret',\n",
              "  'vietnam proof <b>weapon</b> equip captur that have <b>not</b> realiz ignor ignor beckworth <b>decid</b> go incountri incountri report <b>on</b> what find faulkner replac <b>for</b> captain coleman team heavi <b>weapon</b> specialist sergeant bandag candi <b>for</b> children special young nativ <b>boy</b> name ham now fight <b>for</b> anticommunist republ coleman instruct <b>men</b> check their sleep quarter <b>not</b> long afterward civilian prepar <b>for</b> potenti viet kirbi recent <b>murder</b> by viet kirbi team <b>on</b> patrol nearbi terror attack <b>on</b> montagnard villag befriend earlier <b>as</b> well as as well <b>as</b> chief most viet cong <b>for</b> cooper with field use <b>as</b> land zone zone lz <b>for</b> mike forc beret also <b>help</b> move local enemi onslaught <b>as</b> battl rag kill young <b>boy</b> tear buri companion symbol <b>boy</b> use stick dog grave <b>as</b> tombston find other refuge <b>as</b> arvn soldier wound but <b>not</b> critic sergeant agent pose <b>as</b> south vietnames vietnames soldier <b>as</b> die act as die <b>act</b> captain nim drop napalm <b>on</b> attack enemi ham chuck <b>on</b> one promis promis return <b>for</b> him da enemi dead <b>or</b> flee kirbi will fire <b>for</b> file stori thank kirbi <b>for</b> experi return bruce cabot <b>as</b> well as as well <b>as</b> kirbi arvn ti see <b>as</b> bargain chip end war <b>on</b> south vietnam vietnam term <b>as</b> well as as well <b>as</b> disrupt leadership name lin <b>as</b> honey trap soldier select <b>for</b> thi secret two cai <b>men</b> stay behind nva forc <b>as</b> team exfiltr with lin <b>help</b> hoist him serious wound <b>as</b> muldoon escap beckworth watch <b>as</b> ham chuck toll war <b>as</b> ham chuck helicopt search <b>for</b> petersen beckworth walk over <b>boy</b> tell him green beret <b>on</b> him say into sunset <b>as</b> ballad green'],\n",
              " [5611,\n",
              "  'trick r treat',\n",
              "  'their home <b>for</b> halloween it henri wait <b>for</b> insid their trickortreat wit <b>murder</b> but run go search <b>for</b> emma find sit down <b>on</b> porch invit give lectur <b>on</b> respect rule wilkin continu <b>act</b> casual wilkin import rule <b>for</b> halloween alway child bodi <b>as</b> tri buri repeatedli ask <b>for</b> help with ask for <b>help</b> with jackolantern wilkin stab <b>boy</b> with shovel request such <b>as</b> billi wish seem request <b>help</b> enter own again ask <b>for</b> help with ask for <b>help</b> with jackolantern thi time <b>as</b> wilkin bring aliv smile <b>father</b> son look sara two <b>boy</b> chip schrader they ask <b>for</b> one jackolantern collect mean <b>as</b> an offer get brutal <b>murder</b> by dead leav quarri <b>as</b> sole survivor get readi <b>for</b> parti with lauri uncomfort <b>as</b> littl red corps abandon <b>on</b> sidewalk pass suspect him <b>murder</b> later as murder later <b>as</b> lauri walk parti with <b>men</b> they bring someon scream <b>as</b> bodi fall bleed beg <b>for</b> help lauri beg for <b>help</b> lauri then deserv death <b>as</b> she prepar women feast <b>on</b> their date sam small <b>boy</b> orang footi call wilkin <b>for</b> help but wilkin for <b>help</b> but tackl which land <b>on</b> kreeg chest chest chew <b>on</b> it as on it <b>as</b> leav photo wilkin sit <b>on</b> porch hand that mimic <b>father</b> first appear show kreeg <b>murder</b> dismemb by'],\n",
              " [754,\n",
              "  'boy town',\n",
              "  'convict <b>murder</b> ask make make confess <b>on</b> day execut old friend <b>father</b> flanagan spencer run home <b>for</b> indig men for indig <b>men</b> omaha nebraska state debt <b>father</b> flanagan wit aw plight <b>as</b> homeless friendless homeless friendless <b>boy</b> who ward offici leav <b>father</b> flanagan provid comfort wisdom <b>on</b> train back back omaha <b>father</b> flanagan transform hardship experi <b>as</b> child without without friend <b>or</b> famili as or famili <b>as</b> ward state ward state <b>father</b> flanagan believ such thing <b>as</b> bad boy as bad <b>boy</b> spend life often even <b>boy</b> build sanctuari that call <b>boy</b> town boy boy town <b>boy</b> have their punish one <b>boy</b> whitey marsh mickey rooney <b>as</b> much as as much <b>as</b> anyon can brother prison <b>for</b> murder ask prison for <b>murder</b> ask father murder ask <b>father</b> flanagan take talk hoodlum <b>boy</b> town whitey though run <b>for</b> mayor boy for mayor <b>boy</b> town determin slogan when <b>boy</b> instead elect campaign whitey <b>decid</b> leav onli bob watson <b>boy</b> town mascot him pull <b>on</b> sleev plead leav feel <b>guilti</b> hurt accident take back <b>boy</b> town sheriff full respons <b>for</b> boy whitey respons for <b>boy</b> whitey refus have promis <b>not</b> inform on not inform <b>on</b> joe but result end <b>boy</b> town go whitey that <b>boy</b> town more until flanagan <b>boy</b> arriv at crimin recaptur <b>boy</b> town reward new mayor <b>boy</b> town by more debt <b>as</b> flanagan tell new idea <b>for</b> facil'],\n",
              " [5264,\n",
              "  'dominion prequel exorcist',\n",
              "  'occupi holland <b>father</b> lankest merrin execut retali <b>for</b> murder german retali for <b>murder</b> german trooper trooper exchang <b>for</b> spar villag up with <b>father</b> franci gabriel ensur church <b>not</b> desecr major provid accommod <b>for</b> two men for two <b>men</b> merrin take take franci <b>on</b> tour dig perfect condit <b>as</b> though it construct complet <b>on</b> site merrin physicallydeform young <b>boy</b> name chech by local <b>for</b> fear that manag bring <b>boy</b> rachel for boy rachel <b>for</b> medic treatment such way <b>as</b> restrain someth church build <b>not</b> as place build not <b>as</b> place worship underground templ <b>on</b> their way symbol use <b>murder</b> testimoni jomo wari eye <b>on</b> site that that two <b>men</b> affect by befor shoot <b>on</b> spot by unusu recoveri <b>not</b> caus by by god <b>as</b> have think think fear <b>for</b> chech soul baptis him <b>boy</b> accept on boy accept <b>on</b> condit it hold respons <b>for</b> spread christian at church <b>as</b> they do clear entranc <b>for</b> daybreak next villag kill <b>for</b> defianc when what happen <b>as</b> merrin recomm former condit <b>as</b> demon leav now serv <b>as</b> rachel assist more leav <b>for</b>'],\n",
              " [1849,\n",
              "  'hall montezuma',\n",
              "  'prepar land <b>on</b> larg japaneseheld gilfillan warn <b>men</b> that it ill can <b>not</b> fight carl psycholog migrain <b>for</b> month carl onli seven <b>men</b> remain origin refus leav <b>men</b> have reli have reli <b>on</b> doc suppli with painkil <b>men</b> hit beach burst resist <b>as</b> four day riley pretti <b>boy</b> duncannon grow one day <b>men</b> tri take which come <b>as</b> an unpleas dub willi <b>as</b> gilfillan receiv next assault <b>on</b> hill willi zelenko blind <b>men</b> captur remain find map <b>on</b> wound offic wound offic <b>on</b> return trip at pretti <b>boy</b> who kill him attempt <b>murder</b> prison lane kill pretti <b>boy</b> while attempt shoulder but <b>not</b> befor give dickerman messag <b>for</b> carl anderson butterfield work <b>on</b> japanes map find pretti <b>boy</b> person effect match locat <b>on</b> map when doc appeal <b>for</b> him strong him strong <b>for</b> sake those with butt <b>weapon</b> again lead again lead <b>men</b> into battl battl then <b>as</b> film close attack base <b>on</b> carl men on carl <b>men</b> effort carl'],\n",
              " [3828,\n",
              "  'target',\n",
              "  'mother departur <b>for</b> europ that weav carri <b>on</b> amic although tension between <b>father</b> son hint hous go <b>on</b> fish trip walter fear <b>for</b> wife wellb pick up <b>on</b> it pri chri walter <b>decid</b> go pari introduc herself <b>as</b> princess clara revolut walter <b>on</b> other hand what go <b>on</b> walter repli chri stay <b>for</b> ani messag then leav <b>for</b> american embassi chri reaction <b>as</b> expect one what go <b>on</b> but walter with call <b>for</b> walter offic there fortun <b>for</b> walter chri use work <b>for</b> cia chri disturb that <b>father</b> life lie histori work <b>as</b> journalist franc begin work <b>for</b> cia perform pull gun <b>on</b> him they him it <b>for</b> benefit that fact work <b>for</b> cia two disregard walter <b>decid</b> it best spot tail <b>on</b> them at lay trap <b>for</b> tail they him again <b>wont</b> see him two leav <b>for</b> hamburg by young man <b>father</b> yell mendelssohn it off <b>as</b> they walk chri do <b>on</b> way out at lise <b>help</b> two get have they <b>not</b> choos life up life <b>for</b> next day take off <b>on</b> foot with by rescu <b>father</b> corner by walter point <b>for</b> him meet recogn it <b>as</b> from mendelssohn also know <b>as</b> schroeder later walter leav <b>for</b> west berlin then leav <b>on</b> train frankfurt emphysemaridden colonel <b>for</b> lloyd locat colonel do <b>not</b> give them exchang chri <b>decid</b> surpris carla leav find <b>father</b> she say shell wait <b>for</b> him bed chri have <b>not</b> arriv lise goodby embark <b>on</b> boat while fill chri <b>on</b> plan two short brief <b>on</b> agenc tradecraft move signal <b>father</b> with newspap pull gun <b>on</b> him forc get drop <b>on</b> him shoot run upstair <b>father</b> two flee never see <b>father</b> again follow walter guess <b>as</b> what desir proclaim thi <b>murder</b> children chri pump him <b>for</b> inform chri two old <b>men</b> look on men look <b>on</b> at graveston teenag children <b>murder</b> cold blood deni respons <b>for</b> their death contact by <b>father</b> who updat updat him <b>on</b> situat tell taber reveal <b>as</b> doubl agent pull gun <b>on</b> walter shoot get jump <b>on</b> him when taber respons <b>for</b> death schroeder man respons <b>for</b> death son reunit embrac <b>as</b> hangar erupt chri look <b>on</b> at devast doubl live <b>father</b> other agent realiz who <b>father</b> truli befor'],\n",
              " [4400,\n",
              "  'ballad littl jo',\n",
              "  'portrait photograph <b>as</b> result bear head west <b>on</b> road josephin veri limit <b>as</b> singl woman with suspicion <b>or</b> as sexual suspicion or <b>as</b> sexual prey sexual prey <b>for</b> ani man sell servic <b>as</b> whore pass see it <b>as</b> onli protect begin dress <b>as</b> man thu recommend jo <b>for</b> job at with perci <b>or</b> secret so sheep head <b>for</b> mountain after jo letter <b>for</b> that have jo will <b>not</b> share secret break silenc <b>for</b> five year she work <b>as</b> shepherd brave frequent view <b>as</b> peculiar jo have eye <b>on</b> jo blind first winter <b>as</b> sheep herder chines labor <b>for</b> tri take with jo <b>help</b> with homestead homestead take <b>on</b> duti cook slowwit jo <b>not</b> happi at discov she <b>not</b> man she she keep <b>as</b> much distanc much distanc <b>as</b> possibl but have masquerad <b>for</b> own safeti who do <b>not</b> compli one herder give <b>or</b> murder by give or <b>murder</b> by mask wit brutal <b>murder</b> too mani will imposs <b>for</b> go back jo will <b>not</b> sway meet final paper <b>for</b> sale homestead by jo <b>for</b> help cattl jo for <b>help</b> cattl compani by god <b>boy</b> i think amount someth <b>as</b> grey prepar tinman recov <b>on</b> elect day two remain <b>men</b> but pain but pain <b>act</b> kill clearli clearli indic <b>on</b> face plot they arriv <b>as</b> badger buy back homestead <b>as</b> tear place sister pictur <b>as</b> she live she live <b>as</b> woman town bodi hors <b>for</b> photograph final'],\n",
              " [4749, 1206, 4719, 4055, 5895, 5749, 3079, 5611, 754, 5264, 1849, 3828, 4400]]"
            ]
          },
          "metadata": {
            "tags": []
          },
          "execution_count": 26
        }
      ]
    },
    {
      "cell_type": "code",
      "metadata": {
        "id": "bkmPHfO3tGIy"
      },
      "source": [
        "test_case = [\n",
        "  {\n",
        "    \"max_size\": 8,\n",
        "    \"plot_query\": \"the Scorpion King leads his army on a campaign to conquer the world.\",\n",
        "    \"title_query\": \"The Mummy Returns\",\n",
        "    \"title_weight\": 1\n",
        "  },\n",
        "  {\n",
        "    \"max_size\": 4,\n",
        "    \"plot_query\": \"Jeremy takes John to a wedding for a daughter of the U.S. Secretary of the Treasury\\nJohn and Jeremy become acquainted with the Clearys at their home.\",\n",
        "    \"title_query\": \"\",\n",
        "    \"title_weight\": 1\n",
        "  },\n",
        "  {\n",
        "    \"max_size\": 10,\n",
        "    \"plot_query\": \"One of them, later known as The Fallen, defies their sole rule to never destroy planets hosting life by establishing a Sun Harvester on Earth. \",\n",
        "    \"title_query\": \"\",\n",
        "    \"title_weight\": 1\n",
        "  },\n",
        "  {\n",
        "    \"max_size\": 11,\n",
        "    \"plot_query\": \"jim and his mother are in a birthday celebration. he finds a mysterious map but a sailor with one leg looks for it too. The pirates want to kill Jim. Silver protects him. Jim frees Silver. As he sails away, Silver promises to hunt treasure with Jim again some day.\",\n",
        "    \"title_query\": \"Treasure Island\",\n",
        "    \"title_weight\": 4\n",
        "  },\n",
        "  {\n",
        "    \"max_size\": 2,\n",
        "    \"plot_query\": \"Neo, humanity's only hope of stopping the war and saving Zion, attempts to broker peace between the machines and humans.\",\n",
        "    \"title_query\": \"\",\n",
        "    \"title_weight\": 4\n",
        "  },\n",
        "  {\n",
        "    \"max_size\": 8,\n",
        "    \"plot_query\": \"Captain Jean Luc Picard awaken from a nightmare.\\nThe Enterprise arrives in time to assist the crew of the USS Defiant and its captain.\\nThe Enterprise arrives hundreds of years in its past on April 4, 2063, the day before humanity's first encounter with alien life.\",\n",
        "    \"title_query\": \"Star Trek\",\n",
        "    \"title_weight\": 4\n",
        "  },\n",
        "  {\n",
        "    \"max_size\": 13,\n",
        "    \"plot_query\": \"In a murder trial, 12 men act as the jury to decide whether or not the boy is guilty for murdering his father. The lawyers won't help the boy as he has a weapon.\",\n",
        "    \"title_query\": \"\",\n",
        "    \"title_weight\": 4\n",
        "  },\n",
        "]"
      ],
      "execution_count": null,
      "outputs": []
    },
    {
      "cell_type": "code",
      "metadata": {
        "colab": {
          "base_uri": "https://localhost:8080/"
        },
        "id": "5UMq2EvGwnJP",
        "outputId": "764d24a4-f620-4e59-bfcc-5d1589abf062"
      },
      "source": [
        "#prepare_text(\"And, There were lots of things to do\")\n",
        "#prepare_text(\"me earl and the\n",
        "#positional_index[\"ok\"]\n",
        "(precision([1, 2, 3, 4, 5], [6, 1, 5, 8, 4]), recall([1, 2, 3, 4, 5], [6, 1, 5, 8, 4]), f1_score([1, 2, 3, 4, 5], [6, 1, 5, 8, 4]), map_score([1, 2, 3, 4, 5], [6, 1, 5, 8, 4]), ndcg_score([1, 2, 3, 4, 5], [6, 1, 5, 8, 4]))"
      ],
      "execution_count": null,
      "outputs": [
        {
          "output_type": "execute_result",
          "data": {
            "text/plain": [
              "(0.6, 0.6, 0.6, 0.35333333333333333, 0.4)"
            ]
          },
          "metadata": {
            "tags": []
          },
          "execution_count": 30
        }
      ]
    },
    {
      "cell_type": "code",
      "metadata": {
        "id": "oKL1bI7sxmRs"
      },
      "source": [
        "#bigram[\"af\"]\n",
        "#get_corrected_text(\"She returns homee drubk afer his bchelor party\")\n",
        "new_doc1 = \"10000,The Shawshank Redemption,Two imprisoned men bond over a number of years\"\n",
        "add_single_documnet(new_doc1)"
      ],
      "execution_count": null,
      "outputs": []
    },
    {
      "cell_type": "code",
      "metadata": {
        "colab": {
          "base_uri": "https://localhost:8080/"
        },
        "id": "guEG_9bYygxO",
        "outputId": "728d4f12-21df-4b59-d509-9bac2e82864e"
      },
      "source": [
        "positional_index[\"shawshank\"]"
      ],
      "execution_count": null,
      "outputs": [
        {
          "output_type": "execute_result",
          "data": {
            "text/plain": [
              "[[], []]"
            ]
          },
          "metadata": {
            "tags": []
          },
          "execution_count": 37
        }
      ]
    },
    {
      "cell_type": "code",
      "metadata": {
        "colab": {
          "base_uri": "https://localhost:8080/"
        },
        "id": "TasiBbfdytxN",
        "outputId": "62e38eef-08f5-4082-ce01-5e27713678e8"
      },
      "source": [
        "search(\"redempt\",\"\",1,3)"
      ],
      "execution_count": null,
      "outputs": [
        {
          "output_type": "execute_result",
          "data": {
            "text/plain": [
              "[[10000, 'shawshank <b>redempt</b>', ''],\n",
              " [1, 'suburbanit', ''],\n",
              " [2, 'laugh ga', '']]"
            ]
          },
          "metadata": {
            "tags": []
          },
          "execution_count": 35
        }
      ]
    },
    {
      "cell_type": "code",
      "metadata": {
        "colab": {
          "base_uri": "https://localhost:8080/",
          "height": 419
        },
        "id": "pXGczS3hzAhg",
        "outputId": "dd8b343b-1f56-4dcd-a178-7d3fa6232053"
      },
      "source": [
        "remove_signle_document(10000)"
      ],
      "execution_count": null,
      "outputs": [
        {
          "output_type": "execute_result",
          "data": {
            "text/html": [
              "<div>\n",
              "<style scoped>\n",
              "    .dataframe tbody tr th:only-of-type {\n",
              "        vertical-align: middle;\n",
              "    }\n",
              "\n",
              "    .dataframe tbody tr th {\n",
              "        vertical-align: top;\n",
              "    }\n",
              "\n",
              "    .dataframe thead th {\n",
              "        text-align: right;\n",
              "    }\n",
              "</style>\n",
              "<table border=\"1\" class=\"dataframe\">\n",
              "  <thead>\n",
              "    <tr style=\"text-align: right;\">\n",
              "      <th></th>\n",
              "      <th>id</th>\n",
              "      <th>title</th>\n",
              "      <th>plot</th>\n",
              "    </tr>\n",
              "  </thead>\n",
              "  <tbody>\n",
              "    <tr>\n",
              "      <th>0</th>\n",
              "      <td>1</td>\n",
              "      <td>[suburbanit]</td>\n",
              "      <td>[film, about, famili, who, move, suburb, hop, ...</td>\n",
              "    </tr>\n",
              "    <tr>\n",
              "      <th>1</th>\n",
              "      <td>2</td>\n",
              "      <td>[laugh, ga]</td>\n",
              "      <td>[plot, that, black, woman, go, dentist, for, t...</td>\n",
              "    </tr>\n",
              "    <tr>\n",
              "      <th>2</th>\n",
              "      <td>3</td>\n",
              "      <td>[calamit, elop]</td>\n",
              "      <td>[young, coupl, decid, elop, after, catch, mids...</td>\n",
              "    </tr>\n",
              "    <tr>\n",
              "      <th>3</th>\n",
              "      <td>4</td>\n",
              "      <td>[call, wild]</td>\n",
              "      <td>[white, girl, florenc, lawrenc, reject, propos...</td>\n",
              "    </tr>\n",
              "    <tr>\n",
              "      <th>4</th>\n",
              "      <td>5</td>\n",
              "      <td>[lad, from, old, ireland]</td>\n",
              "      <td>[an, irish, boy, olcott, emigr, america, escap...</td>\n",
              "    </tr>\n",
              "    <tr>\n",
              "      <th>...</th>\n",
              "      <td>...</td>\n",
              "      <td>...</td>\n",
              "      <td>...</td>\n",
              "    </tr>\n",
              "    <tr>\n",
              "      <th>5995</th>\n",
              "      <td>5996</td>\n",
              "      <td>[glass, castl]</td>\n",
              "      <td>[unconvent, povertystricken, upbring, wall, si...</td>\n",
              "    </tr>\n",
              "    <tr>\n",
              "      <th>5996</th>\n",
              "      <td>5997</td>\n",
              "      <td>[good, cathol]</td>\n",
              "      <td>[three, cathol, priest, live, rectori, togeth,...</td>\n",
              "    </tr>\n",
              "    <tr>\n",
              "      <th>5997</th>\n",
              "      <td>5998</td>\n",
              "      <td>[outcast]</td>\n",
              "      <td>[best, friend, mindi, eden, sher, jodi, victor...</td>\n",
              "    </tr>\n",
              "    <tr>\n",
              "      <th>5998</th>\n",
              "      <td>5999</td>\n",
              "      <td>[shack]</td>\n",
              "      <td>[mackenzi, mack, phillip, suffer, physic, emot...</td>\n",
              "    </tr>\n",
              "    <tr>\n",
              "      <th>5999</th>\n",
              "      <td>6000</td>\n",
              "      <td>[wonder]</td>\n",
              "      <td>[august, auggi, pullman, young, boy, rais, nor...</td>\n",
              "    </tr>\n",
              "  </tbody>\n",
              "</table>\n",
              "<p>6000 rows × 3 columns</p>\n",
              "</div>"
            ],
            "text/plain": [
              "        id  ...                                               plot\n",
              "0        1  ...  [film, about, famili, who, move, suburb, hop, ...\n",
              "1        2  ...  [plot, that, black, woman, go, dentist, for, t...\n",
              "2        3  ...  [young, coupl, decid, elop, after, catch, mids...\n",
              "3        4  ...  [white, girl, florenc, lawrenc, reject, propos...\n",
              "4        5  ...  [an, irish, boy, olcott, emigr, america, escap...\n",
              "...    ...  ...                                                ...\n",
              "5995  5996  ...  [unconvent, povertystricken, upbring, wall, si...\n",
              "5996  5997  ...  [three, cathol, priest, live, rectori, togeth,...\n",
              "5997  5998  ...  [best, friend, mindi, eden, sher, jodi, victor...\n",
              "5998  5999  ...  [mackenzi, mack, phillip, suffer, physic, emot...\n",
              "5999  6000  ...  [august, auggi, pullman, young, boy, rais, nor...\n",
              "\n",
              "[6000 rows x 3 columns]"
            ]
          },
          "metadata": {
            "tags": []
          },
          "execution_count": 36
        }
      ]
    },
    {
      "cell_type": "markdown",
      "metadata": {
        "id": "SHVlw0kVBUW4"
      },
      "source": [
        "<div dir=\"rtl\">\n",
        "<font face=\"XB Zar\" size=4>\n",
        "    <h1>\n",
        "    <b>نکات پایانی</b>\n",
        "    </h1>\n",
        "    \n",
        "\n",
        "1.   سیستم را بهینه پیاده‌سازی کنید تا در زمان کمتری بارگذاری و نمایه‌سازی  انجام شود.\n",
        "2.   تمام قطعه‌ کدهای بالا باید توسط شما تکمیل شود. نوت‌بوک نهایی باید بدون خطا اجرا شود. اگر تمام کدهای استفاده شده در همین فایل نیست،‌ حتما آن‌ها را نیز به همراه نوت‌بوک در کوئرا آپلود کنید.\n",
        "3.    اسم توابع و نحوه ورودی گرفتن و خروجی دادن آن‌ها را تغییر ندهید. بقیه اجزای توابع صرفا برای شهود بیشتر شما نوشته شده‌اند و نیازی به نگه‌داری آن‌ها نیست.\n",
        "4.   در صورت امکان استفاده از کد آماده مشخصا این مورد برای بخش مربوطه ذکر شده است. اگر چیزی در این مورد ذکر نشده نمی‌توانید از کد آماده استفاده کنید.\n",
        "5.    فایل داده‌ها را در کوئرا آپلود نکنید.\n",
        "6.    فایل زیپ نهایی و فایل نوت‌بوک حتما به فرمت StudentNumber_phase1 نامگذاری شود.\n",
        "\n",
        "\n",
        "<b>سالم و موفق باشید.</b>\n",
        "\n",
        "</font>\n",
        "</div>"
      ]
    }
  ]
}